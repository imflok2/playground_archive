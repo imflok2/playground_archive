{
 "metadata": {
  "language_info": {
   "codemirror_mode": {
    "name": "ipython",
    "version": 3
   },
   "file_extension": ".py",
   "mimetype": "text/x-python",
   "name": "python",
   "nbconvert_exporter": "python",
   "pygments_lexer": "ipython3",
   "version": "3.8.8"
  },
  "orig_nbformat": 2,
  "kernelspec": {
   "name": "python388jvsc74a57bd03410afedb74081d81603511028deadddc25ba0f01c14e0cb891e2c2473f81884",
   "display_name": "Python 3.8.8 64-bit"
  },
  "metadata": {
   "interpreter": {
    "hash": "3410afedb74081d81603511028deadddc25ba0f01c14e0cb891e2c2473f81884"
   }
  }
 },
 "nbformat": 4,
 "nbformat_minor": 2,
 "cells": [
  {
   "cell_type": "code",
   "execution_count": 5,
   "metadata": {},
   "outputs": [
    {
     "output_type": "stream",
     "name": "stdout",
     "text": [
      " Volume in drive G is G\n",
      " Volume Serial Number is 1C7D-A999\n",
      "\n",
      " Directory of G:\\realduel_codes\n",
      "\n",
      "05/05/2021  05:10 PM    <DIR>          .\n",
      "05/05/2021  05:10 PM    <DIR>          ..\n",
      "05/04/2021  03:48 PM         5,700,957 1-s2.0-S0010482516301391-main.pdf\n",
      "05/04/2021  09:57 PM         1,028,107 compressed-sensing1.pdf\n",
      "05/05/2021  05:10 PM            64,140 CS_Sparse_Reconstruction_Sparco.pdf\n",
      "03/26/2021  06:15 PM                 0 datarandmu1e3.txt\n",
      "05/04/2021  04:30 PM           227,311 fouriertransform.pdf\n",
      "04/24/2021  03:32 AM    <DIR>          ielts\n",
      "03/28/2021  02:14 PM            53,326 Just Friends.pdf\n",
      "03/26/2021  06:15 PM               637 l1_l2_sub.m\n",
      "04/23/2021  05:31 PM             1,680 LASSO_01.m\n",
      "04/23/2021  06:20 PM             1,759 LASSO_02.m\n",
      "03/02/2021  10:33 PM    <DIR>          math\n",
      "03/28/2021  02:14 PM            63,691 Night and Day key Eb.pdf\n",
      "03/26/2021  06:15 PM             3,502 NPG_ls_l1_l2.m\n",
      "03/26/2021  06:15 PM             1,763 pro_gra_extra_l1l2.m\n",
      "03/26/2021  06:02 PM             1,034 pro_gra_l1l2.m\n",
      "03/26/2021  06:01 PM             2,960 random_dc_l1l2_1e3.m\n",
      "03/26/2021  06:01 PM             2,969 random_dc_l1l2_5e4.m\n",
      "05/05/2021  02:48 PM        65,726,777 ScienceDirect_articles_05May2021_06-47-57.660.zip\n",
      "03/26/2021  06:15 PM               254 soft_thresh.m\n",
      "05/05/2021  02:52 PM           240,010 Sparse_Signal_Reconstruction.pdf\n",
      "              18 File(s)     73,120,877 bytes\n",
      "               4 Dir(s)  10,295,873,536 bytes free\n"
     ]
    }
   ],
   "source": [
    "!dir G:\\realduel_codes\\"
   ]
  },
  {
   "cell_type": "code",
   "execution_count": 27,
   "metadata": {},
   "outputs": [
    {
     "output_type": "execute_result",
     "data": {
      "text/plain": [
       "<Response [200]>"
      ]
     },
     "metadata": {},
     "execution_count": 27
    }
   ],
   "source": [
    "import requests\n",
    "from bs4 import BeautifulSoup\n",
    "import os\n",
    "import sys\n",
    "url = 'https://www.polyu.edu.hk/ama/profile/pong/MBA_l1vl2/'\n",
    "response = requests.get(url)\n",
    "response"
   ]
  },
  {
   "cell_type": "code",
   "execution_count": 15,
   "metadata": {},
   "outputs": [],
   "source": [
    "soup = BeautifulSoup(response.content)"
   ]
  },
  {
   "cell_type": "code",
   "execution_count": 35,
   "metadata": {},
   "outputs": [],
   "source": [
    "def download_file(down_url=None):\n",
    "    data = requests.get(down_url)\n",
    "    print(data)\n",
    "    with open(os.path.basename(down_url),'wb') as file:\n",
    "        file.write(data.content)"
   ]
  },
  {
   "cell_type": "code",
   "execution_count": 26,
   "metadata": {},
   "outputs": [
    {
     "output_type": "execute_result",
     "data": {
      "text/plain": [
       "['CaseSg.m',\n",
       " 'MBA_l1vl2_LL.m',\n",
       " 'MBA_l1vl2_LS.m',\n",
       " 'MBA_l1vl2_RCS.m',\n",
       " 'Readme.txt',\n",
       " 'SCP_ls_LL2.m',\n",
       " 'SubP_alpha.m',\n",
       " 'runcode_LL.m',\n",
       " 'runcode_LS_lou.m',\n",
       " 'runcode_RCS.m']"
      ]
     },
     "metadata": {},
     "execution_count": 26
    }
   ],
   "source": [
    "names = [ ele['href'] for ele in soup.find_all('a')]\n",
    "names"
   ]
  },
  {
   "cell_type": "code",
   "execution_count": 38,
   "metadata": {},
   "outputs": [
    {
     "output_type": "stream",
     "name": "stderr",
     "text": [
      "'pwd' is not recognized as an internal or external command,\noperable program or batch file.\n"
     ]
    }
   ],
   "source": [
    "!pwd G:\\realduel_codes\\"
   ]
  },
  {
   "cell_type": "code",
   "execution_count": 32,
   "metadata": {},
   "outputs": [],
   "source": [
    "!mkdir compressedsensingl1l2"
   ]
  },
  {
   "cell_type": "code",
   "execution_count": 33,
   "metadata": {},
   "outputs": [],
   "source": [
    "!cd compressedsensingl1l2"
   ]
  },
  {
   "cell_type": "code",
   "execution_count": 36,
   "metadata": {},
   "outputs": [
    {
     "output_type": "stream",
     "name": "stdout",
     "text": [
      "<Response [200]>\n",
      "<Response [200]>\n",
      "<Response [200]>\n",
      "<Response [200]>\n",
      "<Response [200]>\n",
      "<Response [200]>\n",
      "<Response [200]>\n",
      "<Response [200]>\n",
      "<Response [200]>\n",
      "<Response [200]>\n"
     ]
    }
   ],
   "source": [
    "for name in names:\n",
    "    download_file(os.path.join(url,name))"
   ]
  },
  {
   "cell_type": "code",
   "execution_count": 39,
   "metadata": {},
   "outputs": [
    {
     "output_type": "stream",
     "name": "stdout",
     "text": [
      "<Response [200]>\n"
     ]
    }
   ],
   "source": [
    "download_file('http://bias.csr.unibo.it/fvc2002/Downloads/DB1_B.zip')"
   ]
  },
  {
   "cell_type": "code",
   "execution_count": 40,
   "metadata": {},
   "outputs": [
    {
     "output_type": "error",
     "ename": "NameError",
     "evalue": "name 'HTML' is not defined",
     "traceback": [
      "\u001b[1;31m---------------------------------------------------------------------------\u001b[0m",
      "\u001b[1;31mNameError\u001b[0m                                 Traceback (most recent call last)",
      "\u001b[1;32m<ipython-input-40-412917c12174>\u001b[0m in \u001b[0;36m<module>\u001b[1;34m\u001b[0m\n\u001b[1;32m----> 1\u001b[1;33m \u001b[0mHTML\u001b[0m\u001b[1;33m\u001b[0m\u001b[1;33m\u001b[0m\u001b[0m\n\u001b[0m",
      "\u001b[1;31mNameError\u001b[0m: name 'HTML' is not defined"
     ]
    }
   ],
   "source": [
    "HTML"
   ]
  },
  {
   "cell_type": "code",
   "execution_count": null,
   "metadata": {},
   "outputs": [],
   "source": []
  }
 ]
}