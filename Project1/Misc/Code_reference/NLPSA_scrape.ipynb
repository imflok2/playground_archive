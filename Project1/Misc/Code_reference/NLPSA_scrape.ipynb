{
 "metadata": {
  "language_info": {
   "codemirror_mode": {
    "name": "ipython",
    "version": 3
   },
   "file_extension": ".py",
   "mimetype": "text/x-python",
   "name": "python",
   "nbconvert_exporter": "python",
   "pygments_lexer": "ipython3",
   "version": "3.8.5"
  },
  "orig_nbformat": 2,
  "kernelspec": {
   "name": "python3",
   "display_name": "Python 3.8.5 64-bit ('base': conda)",
   "metadata": {
    "interpreter": {
     "hash": "83342c5fc4d2d28b50f265b07476725262dd899bc4de88adc837d9a93741b1c0"
    }
   }
  }
 },
 "nbformat": 4,
 "nbformat_minor": 2,
 "cells": [
  {
   "cell_type": "code",
   "execution_count": 5,
   "metadata": {},
   "outputs": [
    {
     "output_type": "stream",
     "name": "stdout",
     "text": [
      "Collecting webdriver-manager\n",
      "  Downloading webdriver_manager-3.4.2-py2.py3-none-any.whl (16 kB)\n",
      "Requirement already satisfied: requests in /Users/dhmp/opt/anaconda3/lib/python3.8/site-packages (from webdriver-manager) (2.24.0)\n",
      "Collecting crayons\n",
      "  Downloading crayons-0.4.0-py2.py3-none-any.whl (4.6 kB)\n",
      "Collecting configparser\n",
      "  Downloading configparser-5.0.2-py3-none-any.whl (19 kB)\n",
      "Requirement already satisfied: idna<3,>=2.5 in /Users/dhmp/opt/anaconda3/lib/python3.8/site-packages (from requests->webdriver-manager) (2.10)\n",
      "Requirement already satisfied: urllib3!=1.25.0,!=1.25.1,<1.26,>=1.21.1 in /Users/dhmp/opt/anaconda3/lib/python3.8/site-packages (from requests->webdriver-manager) (1.25.11)\n",
      "Requirement already satisfied: chardet<4,>=3.0.2 in /Users/dhmp/opt/anaconda3/lib/python3.8/site-packages (from requests->webdriver-manager) (3.0.4)\n",
      "Requirement already satisfied: certifi>=2017.4.17 in /Users/dhmp/opt/anaconda3/lib/python3.8/site-packages (from requests->webdriver-manager) (2020.6.20)\n",
      "Requirement already satisfied: colorama in /Users/dhmp/opt/anaconda3/lib/python3.8/site-packages (from crayons->webdriver-manager) (0.4.4)\n",
      "Installing collected packages: crayons, configparser, webdriver-manager\n",
      "Successfully installed configparser-5.0.2 crayons-0.4.0 webdriver-manager-3.4.2\n"
     ]
    }
   ],
   "source": [
    "!pip install webdriver-manager"
   ]
  },
  {
   "cell_type": "code",
   "execution_count": 6,
   "metadata": {},
   "outputs": [
    {
     "output_type": "stream",
     "name": "stdout",
     "text": [
      "selenium                           3.141.0\n"
     ]
    }
   ],
   "source": [
    "!pip list | grep selenium"
   ]
  },
  {
   "cell_type": "code",
   "execution_count": 100,
   "metadata": {},
   "outputs": [
    {
     "output_type": "stream",
     "name": "stderr",
     "text": [
      "\n",
      "\n",
      "====== WebDriver manager ======\n",
      "Current google-chrome version is 91.0.4472\n",
      "Get LATEST driver version for 91.0.4472\n",
      "Driver [/Users/dhmp/.wdm/drivers/chromedriver/mac64/91.0.4472.19/chromedriver] found in cache\n"
     ]
    }
   ],
   "source": [
    "from selenium import webdriver\n",
    "from webdriver_manager.chrome import ChromeDriverManager\n",
    "import pandas as pd\n",
    "import time\n",
    "from selenium.webdriver.common.desired_capabilities import DesiredCapabilities\n",
    "caps = DesiredCapabilities().CHROME\n",
    "caps[\"pageLoadStrategy\"] = \"eager\"\n",
    "driver = webdriver.Chrome(ChromeDriverManager().install(), desired_capabilities=caps)"
   ]
  },
  {
   "cell_type": "code",
   "execution_count": 15,
   "metadata": {},
   "outputs": [
    {
     "output_type": "stream",
     "name": "stdout",
     "text": [
      "['CDwindow-F0DB5182588ECE858892E869DBD52C2A']\n",
      "<ipython-input-15-dc2ff2f77dc3>:2: DeprecationWarning: use driver.switch_to.window instead\n",
      "  driver.switch_to_window(driver.window_handles[0])\n"
     ]
    }
   ],
   "source": [
    "print(driver.window_handles)\n",
    "driver.switch_to_window(driver.window_handles[0])"
   ]
  },
  {
   "cell_type": "code",
   "execution_count": 101,
   "metadata": {},
   "outputs": [],
   "source": [
    "driver.get('https://finance.yahoo.com/quote/PLTR?p=PLTR&.tsrc=fin-srch')"
   ]
  },
  {
   "cell_type": "code",
   "execution_count": 105,
   "metadata": {},
   "outputs": [],
   "source": [
    "for _ in range(20):\n",
    "    driver.execute_script(\"window.scrollTo(0,1000000)\")\n",
    "    time.sleep(2)"
   ]
  },
  {
   "cell_type": "code",
   "execution_count": null,
   "metadata": {},
   "outputs": [],
   "source": [
    "#just notes\n",
    "#https://www.analyticsvidhya.com/blog/2020/08/web-scraping-selenium-with-python/\n",
    "imgResults = driver.find_elements_by_xpath(\"//img[contains(@class,'Q4LuWd')]\")"
   ]
  },
  {
   "cell_type": "code",
   "execution_count": 106,
   "metadata": {},
   "outputs": [
    {
     "output_type": "execute_result",
     "data": {
      "text/plain": [
       "104"
      ]
     },
     "metadata": {},
     "execution_count": 106
    }
   ],
   "source": [
    "data_raw = driver.find_elements_by_xpath(\"//div[@data-test-locator='mega']//a\")\n",
    "len(data_raw)"
   ]
  },
  {
   "cell_type": "code",
   "execution_count": 119,
   "metadata": {},
   "outputs": [],
   "source": [
    "data_raw = driver.find_elements_by_xpath(\"//div[@data-test-locator='mega']//a\")\n",
    "data_raw_topic = [i.text for i in data_raw]"
   ]
  },
  {
   "cell_type": "code",
   "execution_count": 108,
   "metadata": {},
   "outputs": [
    {
     "output_type": "execute_result",
     "data": {
      "text/plain": [
       "'https://finance.yahoo.com/news/activists-launch-campaign-against-palantirs-200519146.html'"
      ]
     },
     "metadata": {},
     "execution_count": 108
    }
   ],
   "source": [
    "data_raw[0].get_attribute('href')"
   ]
  },
  {
   "cell_type": "code",
   "execution_count": 35,
   "metadata": {},
   "outputs": [],
   "source": [
    "driver.get(data_raw[0].get_attribute('href'))"
   ]
  },
  {
   "cell_type": "code",
   "execution_count": 40,
   "metadata": {},
   "outputs": [
    {
     "output_type": "execute_result",
     "data": {
      "text/plain": [
       "'2021-06-04T20:05:19.000Z'"
      ]
     },
     "metadata": {},
     "execution_count": 40
    }
   ],
   "source": [
    "time = driver.find_element_by_tag_name('time').get_attribute('datetime')\n",
    "time"
   ]
  },
  {
   "cell_type": "code",
   "execution_count": 41,
   "metadata": {},
   "outputs": [
    {
     "output_type": "execute_result",
     "data": {
      "text/plain": [
       "'A self-touted tech-justice non-profit, Foxglove, has launched the “No Palantir in Our NHS” campaign to oppose data analytics company Palantir Technologies Inc’s (NYSE: PLTR) collaboration with U.K.’s National Health Service (NHS), CNBC reports.\\nThe campaign was backed by over 50 other organizations working on civil liberties, anti-racism, migrant justice, and public health.\\nPalantir’s partnership with the NHS was aimed to help the government and health services use data to monitor the pandemic spread.\\nThe NHS COVID-19 Data Store contract allowed Palantir to help manage the data lake that contained everybody’s health data for pandemic purposes.\\nDuring Mar. 2020, the contract was sold as a short-term effort to predict how best to deploy resources to deal with the pandemic. However, the contract was quietly extended in Dec. when the NHS and Palantir inked a £23 million ($34 million) two-year deal.\\nPalantir is processing the patient data while the NHS remains the data owner, limiting Palantir’s activities.\\nFacebook Inc (NASDAQ: FB) board member and Palantir co-founder Peter Thiel reportedly donated $1.25 million for Donald Trump’s Presidential campaign.\\nPalantir had also faced flak for supporting spy agencies, border forces, and militaries. It has been linked with tracking down undocumented Americans to the development of unmanned drones for bombings and intelligence.\\nPalantir has been trying to grow its European business in recent years and has a significant presence in London’s Soho neighborhood.\\nThe company failed to win any contract by lobbying the U.K. Department of Trade and health officials in 2019.\\nThe Financial Times reported Palantir’s recent acquisition of a stake in British health firm Babylon as part of a $4.2 billion blank-check deal.\\nPrice action: PLTR shares closed higher by 1.69% at $24.03 on Friday.\\nSee more from Benzinga\\nClick here for options trades from Benzinga\\nPalantir Backs Multiple SPACs Endeavors in Digital Health, Aviation, Robotic Sectors: CNBC\\nUnprofitable Palantir, DoorDash CEO Packages Biggest in 2020; Far Exceed S&P 500 CEO Average: WSJ\\n© 2021 Benzinga.com. Benzinga does not provide investment advice. All rights reserved.'"
      ]
     },
     "metadata": {},
     "execution_count": 41
    }
   ],
   "source": [
    "driver.find_element_by_class_name('caas-body').text"
   ]
  },
  {
   "cell_type": "code",
   "execution_count": 43,
   "metadata": {},
   "outputs": [
    {
     "output_type": "execute_result",
     "data": {
      "text/plain": [
       "'Babylon health founder and chief executive Dr Ali Parsa. Photo: Babylon Health\\nA British-Iranian entrepreneur who came to the UK as a teenage refugee is on track to become a billionaire from the listing of his business in the US.\\nBabylon Health, a London-headquartered healthcare technology business, announced on Thursday night it would join New York\\'s Nasdaq (^IXIC) stock market in a deal valuing the business at $4.2bn (£3bn). \\nDr Ali Parsa, Babylon\\'s founder, is set to reap a major windfall from the transaction. He debuted on the Sunday Times Rich List this year with an estimated net worth of £825m thanks to his ownership of just over half of Babylon\\'s shares. The surge in valuation since then means his stake is now likely worth over £1bn.\\n“Frankly, you shouldn’t believe everything you read and it’s irrelevant – they’re clearly counting more than I am counting,\" Dr Parsa told Yahoo Finance UK. \"But the reality is I have enough – even before Babylon as a retired investment banker I had enough money to live. The question is really what to do you do with your life.\"\\nBabylon\\'s blockbuster stock market debut caps a remarkable career for Dr Parsa who came to Britain as a refugee in 1982 after fleeing the Islamic revolution in Iran. He arrived in Britain aged 16 with little to his name but Dr Parsa now downplays this difficult period in his life.\\n\"Saying I was a refugee is kind of dramatising it a bit,\" he said. \"I was that, but I was lucky enough to be born in a very loving middle-class family and so by the time I left Iran at the age of 16, all the foundations were there.\"\\nDr Parsa, 56, earned a place at UCL in the mid-1980s and went on to gain a doctorate in engineering physics. He then pursued a career in the City – working for Credit Suisse, Merrill Lynch, and Goldman Sachs – before founding a chain of hospitals, Circle Healthcare.\\nHe left the business in 2012 and set up Babylon a year later. The company works with the NHS in the UK to offer virtual GP consultations and uses artificial intelligence to help with healthcare. It expanded to the US last year where it has grown rapidly.\\nStory continues'"
      ]
     },
     "metadata": {},
     "execution_count": 43
    }
   ],
   "source": [
    "driver.find_element_by_class_name('caas-body').text"
   ]
  },
  {
   "cell_type": "code",
   "execution_count": 47,
   "metadata": {},
   "outputs": [
    {
     "output_type": "execute_result",
     "data": {
      "text/plain": [
       "'He left the business in 2012 and set up Babylon a year later. The company works with the NHS in the UK to offer virtual GP consultations and uses artificial intelligence to help with healthcare. It expanded to the US last year where it has grown rapidly.'"
      ]
     },
     "metadata": {},
     "execution_count": 47
    }
   ],
   "source": [
    "driver.find_elements_by_xpath(\"//div[@class='caas-body']/p\")[7].text"
   ]
  },
  {
   "cell_type": "code",
   "execution_count": 110,
   "metadata": {},
   "outputs": [],
   "source": [
    "urlss = [i.get_attribute('href') for i in data_raw]"
   ]
  },
  {
   "cell_type": "code",
   "execution_count": 111,
   "metadata": {},
   "outputs": [],
   "source": [
    "data_raw_date = []\n",
    "data_raw_content = []"
   ]
  },
  {
   "cell_type": "code",
   "execution_count": 112,
   "metadata": {},
   "outputs": [
    {
     "output_type": "stream",
     "name": "stdout",
     "text": [
      "loading https://finance.yahoo.com/news/activists-launch-campaign-against-palantirs-200519146.html\n",
      "finish loading pages\n",
      "finish finding date and content elements\n",
      "loading https://finance.yahoo.com/news/palantir-backs-multiple-spacs-endeavors-181143200.html\n",
      "finish loading pages\n",
      "finish finding date and content elements\n",
      "loading https://finance.yahoo.com/news/universal-music-group-officially-spac-161303284.html\n",
      "finish loading pages\n",
      "finish finding date and content elements\n",
      "loading https://finance.yahoo.com/m/228f36d5-de6e-3e98-b924-3f697aee9d4b/ackman%E2%80%99s-spac-deal-to-end-all.html\n",
      "finish loading pages\n",
      "finish finding date and content elements\n",
      "loading https://finance.yahoo.com/news/babylon-health-new-york-nasdaq-listing-ali-parsa-net-worth-billionaire-interview-spac-palantir-alkuri-global-150306160.html\n",
      "finish loading pages\n",
      "finish finding date and content elements\n"
     ]
    }
   ],
   "source": [
    "urls = urlss[:5]\n",
    "for url in urls:\n",
    "    print(f'loading {url}')\n",
    "    driver.get(url)\n",
    "    print('finish loading pages')\n",
    "    data_raw_date.append(driver.find_element_by_tag_name('time').get_attribute('datetime'))\n",
    "    raw_p_content = driver.find_elements_by_xpath(\"//div[@class='caas-body']//p\")\n",
    "    print('finish finding date and content elements')\n",
    "    if len(raw_p_content) < 3:\n",
    "        try:\n",
    "            cr_link = driver.find_element_by_link_text('Continue reading').get_attribute('href')\n",
    "            data_raw_content.append(cr_link)\n",
    "            continue\n",
    "        except:\n",
    "            pass\n",
    "    content = ' '.join([i.text for i in raw_p_content])\n",
    "    data_raw_content.append(content)\n",
    "print('Done scripting')"
   ]
  },
  {
   "cell_type": "code",
   "execution_count": 118,
   "metadata": {},
   "outputs": [
    {
     "output_type": "stream",
     "name": "stdout",
     "text": [
      "('2021-06-04T20:05:19.000Z', 'A self-touted tech-justice non-profit, Foxglove, has launched the “No Palantir in Our NHS” campaign to oppose data analytics company Palantir Technologies Inc’s (NYSE: PLTR) collaboration with U.K.’s National Health Service (NHS), CNBC reports. The campaign was backed by over 50 other organizations working on civil liberties, anti-racism, migrant justice, and public health. Palantir’s partnership with the NHS was aimed to help the government and health services use data to monitor the pandemic spread. The NHS COVID-19 Data Store contract allowed Palantir to help manage the data lake that contained everybody’s health data for pandemic purposes. During Mar. 2020, the contract was sold as a short-term effort to predict how best to deploy resources to deal with the pandemic. However, the contract was quietly extended in Dec. when the NHS and Palantir inked a £23 million ($34 million) two-year deal. Palantir is processing the patient data while the NHS remains the data owner, limiting Palantir’s activities. Facebook Inc (NASDAQ: FB) board member and Palantir co-founder Peter Thiel reportedly donated $1.25 million for Donald Trump’s Presidential campaign. Palantir had also faced flak for supporting spy agencies, border forces, and militaries. It has been linked with tracking down undocumented Americans to the development of unmanned drones for bombings and intelligence. Palantir has been trying to grow its European business in recent years and has a significant presence in London’s Soho neighborhood. The company failed to win any contract by lobbying the U.K. Department of Trade and health officials in 2019. The Financial Times reported Palantir’s recent acquisition of a stake in British health firm Babylon as part of a $4.2 billion blank-check deal. Price action: PLTR shares closed higher by 1.69% at $24.03 on Friday. See more from Benzinga Click here for options trades from Benzinga Palantir Backs Multiple SPACs Endeavors in Digital Health, Aviation, Robotic Sectors: CNBC Unprofitable Palantir, DoorDash CEO Packages Biggest in 2020; Far Exceed S&P 500 CEO Average: WSJ © 2021 Benzinga.com. Benzinga does not provide investment advice. All rights reserved.') \n\n('2021-06-04T18:11:43.000Z', 'Data analytics software developer Palantir Technologies Inc (NYSE: PLTR) has emerged as a significant investor in other tech companies preparing for a public debut, CNBC reports. What Happened: A group of investors, including Palantir, will invest $230 million into the Babylon Health’s SPAC (special purpose acquisition company) merger transaction to go public, as announced on Thursday. Palantir investment was part of a longer-term partnership between the two companies, Babylon CEO Ali Parsa said. Palantir has now agreed to invest in at least six SPAC deals in less than three months. Tech companies like Alphabet Inc’s (NASDAQ: GOOG) (NASDAQ: GOOGL) Google, Salesforce.com Inc (NYSE: CRM), and Intel Corp’s (NASDAQ: INTC) large venture capital arms back start-ups at various stages. Interestingly, Palantir is banking on more mature companies that are already valued in billions. Palantir is hunting innovative companies in big markets that can exploit its data tools. The SPAC listing momentum has cooled down over regulatory concerns and correction in tech stocks. The CNBC SPAC 50 index, based on market cap, has shed nearly 4% year-to-date, while Nasdaq has gained close to 6%. Why It Matters: Palantir has sponsored companies ranging from drug discovery to robotics and air transport. Last week, it collaborated with General Motors (NYSE: GM) in a $100 million investment in Wejo, a U.K.’s connected vehicle data system developer. In March, it agreed to invest $41 million in an air taxi company Lilium, which was developing a seven-seat, electric vertical takeoff and landing aircraft. Palantir grew up serving the public sector and was popular software and services provider to intelligence agencies. The company also expanded into the commercial sector, which accounted for close to 40% of revenue in Q1. Palantir was also heavily investing in the health side of its business. It appointed former International Business Machines Corp (NYSE: IBM) Watson Health executive Dr. Bill Kassler as its first U.S. government CMO. On May 1, Palantir agreed to invest $30 million into the SPAC for drugmaker Roivant Sciences. Roivant inked a five-year subscription contract for products and services under the arrangement.          ') \n\n('2021-06-04T16:13:03.000Z', \"New York-based Pershing Square Tontine Holdings (PSTH) has this morning (June 4th) confirmed it’s in discussions to acquire 10% of Universal Music Group for approximately $4 billion. NYSE-listed PSTH is a special purpose acquisition company (SPAC) affiliated with Pershing Square Holdings, and is led by billionaire CEO Bill Ackman. Pershing Square and Vivendi both confirm that the proposed transaction would represent an enterprise value for UMG of €35 billion ($42.4 billion at current exchange rates). The news was first reported by the Wall Street Journal Thursday evening. More from Rolling Stone Is Universal Music Worth $29 Billion? $49 Billion? Even $100 Billion? Want to Dream With Post Malone? 'Sleep Remixes' Are Now a Thing J Balvin Joins Katy Perry and Post Malone on Pokémon Compilation Album PSTH said the deal was “subject to the completion of mutually satisfactory transaction documentation, but is not subject to additional due diligence.” “Universal Music Group is one of the greatest businesses in the world,” said Bill Ackman, CEO of PSTH. “Led by Sir Lucian Grainge, it has one of the most outstanding management teams that I have ever encountered. Importantly, UMG meets all of our acquisition criteria and investment principles as it is the world’s leading music company, with a royalty on the growing global demand for music. We are delighted to work with Vivendi on this iconic transaction, and look forward to its consummation.” Unlike most SPAC business combinations, PSTH and UMG will not combine into one company following the transaction. Later this year, after Vivendi completes its previously announced listing of UMG on Euronext Amsterdam, PSTH plans to distribute the acquired UMG shares to its shareholders. Some 60% of UMG will be spun out in Amsterdam. Should the PSTH transaction go through, that would leave the remaining 40% of UMG divided up thusly: 10% to PSTH; 10% to Vivendi; 20% to a consortium led by Tencent Holdings.                 \") \n\n('2021-06-04T15:04:00.000Z', 'https://www.wsj.com/articles/ackmans-spac-deal-to-end-all-spacs-11622818252?siteid=yhoof2') \n\n('2021-06-04T15:03:06.000Z', 'A British-Iranian entrepreneur who came to the UK as a teenage refugee is on track to become a billionaire from the listing of his business in the US. Babylon Health, a London-headquartered healthcare technology business, announced on Thursday night it would join New York\\'s Nasdaq (^IXIC) stock market in a deal valuing the business at $4.2bn (£3bn).  Dr Ali Parsa, Babylon\\'s founder, is set to reap a major windfall from the transaction. He debuted on the Sunday Times Rich List this year with an estimated net worth of £825m thanks to his ownership of just over half of Babylon\\'s shares. The surge in valuation since then means his stake is now likely worth over £1bn. “Frankly, you shouldn’t believe everything you read and it’s irrelevant – they’re clearly counting more than I am counting,\" Dr Parsa told Yahoo Finance UK. \"But the reality is I have enough – even before Babylon as a retired investment banker I had enough money to live. The question is really what to do you do with your life.\" Babylon\\'s blockbuster stock market debut caps a remarkable career for Dr Parsa who came to Britain as a refugee in 1982 after fleeing the Islamic revolution in Iran. He arrived in Britain aged 16 with little to his name but Dr Parsa now downplays this difficult period in his life. \"Saying I was a refugee is kind of dramatising it a bit,\" he said. \"I was that, but I was lucky enough to be born in a very loving middle-class family and so by the time I left Iran at the age of 16, all the foundations were there.\" Dr Parsa, 56, earned a place at UCL in the mid-1980s and went on to gain a doctorate in engineering physics. He then pursued a career in the City – working for Credit Suisse, Merrill Lynch, and Goldman Sachs – before founding a chain of hospitals, Circle Healthcare. He left the business in 2012 and set up Babylon a year later. The company works with the NHS in the UK to offer virtual GP consultations and uses artificial intelligence to help with healthcare. It expanded to the US last year where it has grown rapidly.       ') \n\n"
     ]
    },
    {
     "output_type": "execute_result",
     "data": {
      "text/plain": [
       "[None, None, None, None, None]"
      ]
     },
     "metadata": {},
     "execution_count": 118
    }
   ],
   "source": [
    "[print((i,j),\"\\n\") for i,j in zip(data_raw_date,data_raw_content)]"
   ]
  },
  {
   "cell_type": "code",
   "execution_count": 55,
   "metadata": {},
   "outputs": [
    {
     "output_type": "execute_result",
     "data": {
      "text/plain": [
       "'https://www.wsj.com/articles/palantir-and-doordash-ceos-top-list-of-biggest-pay-packages-in-2020-11622712601?mod=itp_wsj'"
      ]
     },
     "metadata": {},
     "execution_count": 55
    }
   ],
   "source": [
    "#no run, demostrating one of the on9 redirecting page\n",
    "cr = driver.find_element_by_link_text('Continue reading').get_attribute('href')\n",
    "cr"
   ]
  },
  {
   "cell_type": "code",
   "execution_count": 99,
   "metadata": {},
   "outputs": [
    {
     "output_type": "execute_result",
     "data": {
      "text/plain": [
       "['https://finance.yahoo.com/news/activists-launch-campaign-against-palantirs-200519146.html',\n",
       " 'https://finance.yahoo.com/news/palantir-backs-multiple-spacs-endeavors-181143200.html']"
      ]
     },
     "metadata": {},
     "execution_count": 99
    }
   ],
   "source": [
    "urls"
   ]
  },
  {
   "cell_type": "code",
   "execution_count": null,
   "metadata": {},
   "outputs": [],
   "source": []
  }
 ]
}