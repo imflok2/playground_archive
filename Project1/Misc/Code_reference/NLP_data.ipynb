{
 "metadata": {
  "language_info": {
   "codemirror_mode": {
    "name": "ipython",
    "version": 3
   },
   "file_extension": ".py",
   "mimetype": "text/x-python",
   "name": "python",
   "nbconvert_exporter": "python",
   "pygments_lexer": "ipython3",
   "version": "3.8.8"
  },
  "orig_nbformat": 2,
  "kernelspec": {
   "name": "python388jvsc74a57bd03410afedb74081d81603511028deadddc25ba0f01c14e0cb891e2c2473f81884",
   "display_name": "Python 3.8.8 64-bit"
  },
  "metadata": {
   "interpreter": {
    "hash": "3410afedb74081d81603511028deadddc25ba0f01c14e0cb891e2c2473f81884"
   }
  }
 },
 "nbformat": 4,
 "nbformat_minor": 2,
 "cells": [
  {
   "cell_type": "code",
   "execution_count": 6,
   "metadata": {},
   "outputs": [],
   "source": [
    "import selenium\n",
    "from webdriver_manager.chrome import ChromeDriverManager\n",
    "from selenium import webdriver"
   ]
  },
  {
   "cell_type": "code",
   "execution_count": 7,
   "metadata": {},
   "outputs": [
    {
     "output_type": "stream",
     "name": "stderr",
     "text": [
      "\n",
      "\n",
      "====== WebDriver manager ======\n",
      "Current google-chrome version is 90.0.4430\n",
      "Get LATEST driver version for 90.0.4430\n",
      "There is no [win32] chromedriver for browser 90.0.4430 in cache\n",
      "Get LATEST driver version for 90.0.4430\n",
      "Trying to download new driver from https://chromedriver.storage.googleapis.com/90.0.4430.24/chromedriver_win32.zip\n",
      "Driver has been saved in cache [C:\\Users\\Admin\\.wdm\\drivers\\chromedriver\\win32\\90.0.4430.24]\n"
     ]
    }
   ],
   "source": [
    "driver = webdriver.Chrome(ChromeDriverManager().install())"
   ]
  },
  {
   "cell_type": "code",
   "execution_count": 8,
   "metadata": {},
   "outputs": [],
   "source": [
    "driver.get('https://finance.yahoo.com/quote/PLTR/news?p=PLTR')"
   ]
  },
  {
   "cell_type": "code",
   "execution_count": 55,
   "metadata": {},
   "outputs": [
    {
     "output_type": "execute_result",
     "data": {
      "text/plain": [
       "140"
      ]
     },
     "metadata": {},
     "execution_count": 55
    }
   ],
   "source": [
    "news_raw = driver.find_elements_by_xpath(\"//div[@data-test-locator='mega']\")\n",
    "len(news_raw)"
   ]
  },
  {
   "cell_type": "code",
   "execution_count": 62,
   "metadata": {
    "tags": []
   },
   "outputs": [
    {
     "output_type": "stream",
     "name": "stdout",
     "text": [
      "UK healthcare app built by Iranian refugee set for £3bn New York stock listing\nUK healthcare app built by Iranian refugee set for £3bn New York stock listing\nUK healthcare app built by Iranian refugee set for £3bn New York stock listing\nUK healthcare app built by Iranian refugee set for £3bn New York stock listing\nUK healthcare app built by Iranian refugee set for £3bn New York stock listing\nUK healthcare app built by Iranian refugee set for £3bn New York stock listing\nUK healthcare app built by Iranian refugee set for £3bn New York stock listing\nUK healthcare app built by Iranian refugee set for £3bn New York stock listing\nUK healthcare app built by Iranian refugee set for £3bn New York stock listing\nUK healthcare app built by Iranian refugee set for £3bn New York stock listing\n"
     ]
    },
    {
     "output_type": "execute_result",
     "data": {
      "text/plain": [
       "[None, None, None, None, None, None, None, None, None, None]"
      ]
     },
     "metadata": {},
     "execution_count": 62
    }
   ],
   "source": [
    "[print(i.find_element_by_xpath(r\"//h3[@class='Mb(5px)']\").text) for i in news_raw[:10]]"
   ]
  },
  {
   "cell_type": "code",
   "execution_count": null,
   "metadata": {},
   "outputs": [],
   "source": []
  }
 ]
}