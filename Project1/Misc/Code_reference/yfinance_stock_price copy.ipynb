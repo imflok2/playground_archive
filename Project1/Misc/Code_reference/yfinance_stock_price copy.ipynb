{
 "metadata": {
  "language_info": {
   "codemirror_mode": {
    "name": "ipython",
    "version": 3
   },
   "file_extension": ".py",
   "mimetype": "text/x-python",
   "name": "python",
   "nbconvert_exporter": "python",
   "pygments_lexer": "ipython3",
   "version": "3.8.8"
  },
  "orig_nbformat": 2,
  "kernelspec": {
   "name": "python388jvsc74a57bd03410afedb74081d81603511028deadddc25ba0f01c14e0cb891e2c2473f81884",
   "display_name": "Python 3.8.8 64-bit"
  },
  "metadata": {
   "interpreter": {
    "hash": "3410afedb74081d81603511028deadddc25ba0f01c14e0cb891e2c2473f81884"
   }
  }
 },
 "nbformat": 4,
 "nbformat_minor": 2,
 "cells": [
  {
   "cell_type": "code",
   "execution_count": 2,
   "metadata": {},
   "outputs": [
    {
     "output_type": "stream",
     "name": "stdout",
     "text": [
      "Collecting yfinance\n",
      "  Downloading yfinance-0.1.59.tar.gz (25 kB)\n",
      "Requirement already satisfied: pandas>=0.24 in c:\\users\\admin\\appdata\\local\\programs\\python\\python38\\lib\\site-packages (from yfinance) (1.2.3)\n",
      "Requirement already satisfied: numpy>=1.15 in c:\\users\\admin\\appdata\\local\\programs\\python\\python38\\lib\\site-packages (from yfinance) (1.19.5)\n",
      "Requirement already satisfied: requests>=2.20 in c:\\users\\admin\\appdata\\local\\programs\\python\\python38\\lib\\site-packages (from yfinance) (2.25.1)\n",
      "Collecting multitasking>=0.0.7\n",
      "  Downloading multitasking-0.0.9.tar.gz (8.1 kB)\n",
      "Collecting lxml>=4.5.1\n",
      "  Downloading lxml-4.6.3-cp38-cp38-win_amd64.whl (3.5 MB)\n",
      "Requirement already satisfied: pytz>=2017.3 in c:\\users\\admin\\appdata\\local\\programs\\python\\python38\\lib\\site-packages (from pandas>=0.24->yfinance) (2021.1)\n",
      "Requirement already satisfied: python-dateutil>=2.7.3 in c:\\users\\admin\\appdata\\roaming\\python\\python38\\site-packages (from pandas>=0.24->yfinance) (2.8.1)\n",
      "Requirement already satisfied: six>=1.5 in c:\\users\\admin\\appdata\\roaming\\python\\python38\\site-packages (from python-dateutil>=2.7.3->pandas>=0.24->yfinance) (1.15.0)\n",
      "Requirement already satisfied: chardet<5,>=3.0.2 in c:\\users\\admin\\appdata\\local\\programs\\python\\python38\\lib\\site-packages (from requests>=2.20->yfinance) (4.0.0)\n",
      "Requirement already satisfied: urllib3<1.27,>=1.21.1 in c:\\users\\admin\\appdata\\local\\programs\\python\\python38\\lib\\site-packages (from requests>=2.20->yfinance) (1.26.4)\n",
      "Requirement already satisfied: idna<3,>=2.5 in c:\\users\\admin\\appdata\\local\\programs\\python\\python38\\lib\\site-packages (from requests>=2.20->yfinance) (2.10)\n",
      "Requirement already satisfied: certifi>=2017.4.17 in c:\\users\\admin\\appdata\\local\\programs\\python\\python38\\lib\\site-packages (from requests>=2.20->yfinance) (2020.12.5)\n",
      "Building wheels for collected packages: yfinance, multitasking\n",
      "  Building wheel for yfinance (setup.py): started\n",
      "  Building wheel for yfinance (setup.py): finished with status 'done'\n",
      "  Created wheel for yfinance: filename=yfinance-0.1.59-py2.py3-none-any.whl size=23442 sha256=1b2b5f36e3b4e11849deddb517e20f9bc281784ab53261896391b45ef8639222\n",
      "  Stored in directory: c:\\users\\admin\\appdata\\local\\pip\\cache\\wheels\\7e\\d5\\f4\\f628965651f61ae35c2bdc73571ce1a2026e1550a336b5ad4b\n",
      "  Building wheel for multitasking (setup.py): started\n",
      "  Building wheel for multitasking (setup.py): finished with status 'done'\n",
      "  Created wheel for multitasking: filename=multitasking-0.0.9-py3-none-any.whl size=8368 sha256=3a678856c3629ac841475a2c9fe23ad6d680e2907348df20fb92a949e7f46b01\n",
      "  Stored in directory: c:\\users\\admin\\appdata\\local\\pip\\cache\\wheels\\57\\6d\\a3\\a39b839cc75274d2acfb1c58bfead2f726c6577fe8c4723f13\n",
      "Successfully built yfinance multitasking\n",
      "Installing collected packages: multitasking, lxml, yfinance\n",
      "Successfully installed lxml-4.6.3 multitasking-0.0.9 yfinance-0.1.59\n",
      "WARNING: You are using pip version 21.0.1; however, version 21.1.2 is available.\n",
      "You should consider upgrading via the 'c:\\users\\admin\\appdata\\local\\programs\\python\\python38\\python.exe -m pip install --upgrade pip' command.\n"
     ]
    }
   ],
   "source": [
    "!pip install yfinance"
   ]
  },
  {
   "cell_type": "code",
   "execution_count": 110,
   "metadata": {},
   "outputs": [
    {
     "output_type": "stream",
     "name": "stdout",
     "text": [
      "Collecting nltk\n",
      "  Downloading nltk-3.6.2-py3-none-any.whl (1.5 MB)\n",
      "Requirement already satisfied: joblib in c:\\users\\admin\\appdata\\local\\programs\\python\\python38\\lib\\site-packages (from nltk) (1.0.1)\n",
      "Collecting tqdm\n",
      "  Downloading tqdm-4.61.0-py2.py3-none-any.whl (75 kB)\n",
      "Collecting regex\n",
      "  Downloading regex-2021.4.4-cp38-cp38-win_amd64.whl (270 kB)\n",
      "Collecting click\n",
      "  Downloading click-8.0.1-py3-none-any.whl (97 kB)\n",
      "Requirement already satisfied: colorama in c:\\users\\admin\\appdata\\roaming\\python\\python38\\site-packages (from click->nltk) (0.4.4)\n",
      "Installing collected packages: tqdm, regex, click, nltk\n",
      "Successfully installed click-8.0.1 nltk-3.6.2 regex-2021.4.4 tqdm-4.61.0\n"
     ]
    }
   ],
   "source": [
    "!pip install nltk"
   ]
  },
  {
   "cell_type": "code",
   "execution_count": 1,
   "metadata": {},
   "outputs": [],
   "source": [
    "import pandas as pd\n",
    "import yfinance as yf\n",
    "import datetime"
   ]
  },
  {
   "cell_type": "code",
   "execution_count": 2,
   "metadata": {},
   "outputs": [
    {
     "output_type": "execute_result",
     "data": {
      "text/plain": [
       "                       Date  \\\n",
       "0  2021-06-05T11:30:00.000Z   \n",
       "1  2021-06-04T20:05:19.000Z   \n",
       "2  2021-06-04T18:11:43.000Z   \n",
       "3  2021-06-04T15:03:06.000Z   \n",
       "4  2021-06-04T14:44:35.000Z   \n",
       "\n",
       "                                               topic  \\\n",
       "0             3 Meme Stocks That Could Make You Rich   \n",
       "1  Activists Launch Campaign Against Palantir's N...   \n",
       "2  Palantir Backs Multiple SPACs Endeavors in Dig...   \n",
       "3  UK healthcare app built by Iranian refugee set...   \n",
       "4  Continue to Exercise Caution When it Comes to ...   \n",
       "\n",
       "                                             content  \n",
       "0  https://www.fool.com/investing/2021/06/05/3-me...  \n",
       "1  A self-touted tech-justice non-profit, Foxglov...  \n",
       "2  Data analytics software developer Palantir Tec...  \n",
       "3  A British-Iranian entrepreneur who came to the...  \n",
       "4  Did Palantir (NYSE:PLTR) stock find its floor ...  "
      ],
      "text/html": "<div>\n<style scoped>\n    .dataframe tbody tr th:only-of-type {\n        vertical-align: middle;\n    }\n\n    .dataframe tbody tr th {\n        vertical-align: top;\n    }\n\n    .dataframe thead th {\n        text-align: right;\n    }\n</style>\n<table border=\"1\" class=\"dataframe\">\n  <thead>\n    <tr style=\"text-align: right;\">\n      <th></th>\n      <th>Date</th>\n      <th>topic</th>\n      <th>content</th>\n    </tr>\n  </thead>\n  <tbody>\n    <tr>\n      <th>0</th>\n      <td>2021-06-05T11:30:00.000Z</td>\n      <td>3 Meme Stocks That Could Make You Rich</td>\n      <td>https://www.fool.com/investing/2021/06/05/3-me...</td>\n    </tr>\n    <tr>\n      <th>1</th>\n      <td>2021-06-04T20:05:19.000Z</td>\n      <td>Activists Launch Campaign Against Palantir's N...</td>\n      <td>A self-touted tech-justice non-profit, Foxglov...</td>\n    </tr>\n    <tr>\n      <th>2</th>\n      <td>2021-06-04T18:11:43.000Z</td>\n      <td>Palantir Backs Multiple SPACs Endeavors in Dig...</td>\n      <td>Data analytics software developer Palantir Tec...</td>\n    </tr>\n    <tr>\n      <th>3</th>\n      <td>2021-06-04T15:03:06.000Z</td>\n      <td>UK healthcare app built by Iranian refugee set...</td>\n      <td>A British-Iranian entrepreneur who came to the...</td>\n    </tr>\n    <tr>\n      <th>4</th>\n      <td>2021-06-04T14:44:35.000Z</td>\n      <td>Continue to Exercise Caution When it Comes to ...</td>\n      <td>Did Palantir (NYSE:PLTR) stock find its floor ...</td>\n    </tr>\n  </tbody>\n</table>\n</div>"
     },
     "metadata": {},
     "execution_count": 2
    }
   ],
   "source": [
    "PLTR_raw = pd.read_csv('raw_PLTR.csv')\n",
    "PLTR_raw.head()"
   ]
  },
  {
   "cell_type": "code",
   "execution_count": 3,
   "metadata": {},
   "outputs": [],
   "source": [
    "PLTR_raw['Date'] = PLTR_raw['Date'].apply(lambda x :datetime.datetime.strptime(x[:-8],r\"%Y-%m-%dT%H:%M\"))"
   ]
  },
  {
   "cell_type": "code",
   "execution_count": null,
   "metadata": {},
   "outputs": [],
   "source": [
    "#content -> URL to words"
   ]
  },
  {
   "cell_type": "code",
   "execution_count": 4,
   "metadata": {},
   "outputs": [
    {
     "output_type": "stream",
     "name": "stdout",
     "text": [
      "[*********************100%***********************]  1 of 1 completed\n"
     ]
    }
   ],
   "source": [
    "PLTR_price = yf.download(tickers='PLTR', period='6mo', interval=\"1h\")"
   ]
  },
  {
   "cell_type": "code",
   "execution_count": 5,
   "metadata": {},
   "outputs": [
    {
     "output_type": "stream",
     "name": "stdout",
     "text": [
      "<class 'pandas.core.frame.DataFrame'>\nDatetimeIndex: 865 entries, 2020-12-09 09:30:00-05:00 to 2021-06-08 15:30:00-04:00\nData columns (total 6 columns):\n #   Column     Non-Null Count  Dtype  \n---  ------     --------------  -----  \n 0   Open       865 non-null    float64\n 1   High       865 non-null    float64\n 2   Low        865 non-null    float64\n 3   Close      865 non-null    float64\n 4   Adj Close  865 non-null    float64\n 5   Volume     865 non-null    int64  \ndtypes: float64(5), int64(1)\nmemory usage: 47.3 KB\n"
     ]
    }
   ],
   "source": [
    "PLTR_price.info()"
   ]
  },
  {
   "cell_type": "code",
   "execution_count": 6,
   "metadata": {},
   "outputs": [
    {
     "output_type": "execute_result",
     "data": {
      "text/plain": [
       "                                Open       High        Low      Close  \\\n",
       "2020-12-09 09:30:00-05:00  28.680000  28.850000  26.709999  27.420000   \n",
       "2020-12-09 10:30:00-05:00  27.424999  27.900000  27.190001  27.410000   \n",
       "2020-12-09 11:30:00-05:00  27.410000  27.480000  26.950001  27.089899   \n",
       "2020-12-09 12:30:00-05:00  27.084999  27.200001  26.040001  26.113400   \n",
       "2020-12-09 13:30:00-05:00  26.139999  26.639999  25.330000  26.594999   \n",
       "\n",
       "                           Adj Close    Volume  \n",
       "2020-12-09 09:30:00-05:00  27.420000  25848861  \n",
       "2020-12-09 10:30:00-05:00  27.410000   7646543  \n",
       "2020-12-09 11:30:00-05:00  27.089899   7067566  \n",
       "2020-12-09 12:30:00-05:00  26.113400  10450521  \n",
       "2020-12-09 13:30:00-05:00  26.594999  15899190  "
      ],
      "text/html": "<div>\n<style scoped>\n    .dataframe tbody tr th:only-of-type {\n        vertical-align: middle;\n    }\n\n    .dataframe tbody tr th {\n        vertical-align: top;\n    }\n\n    .dataframe thead th {\n        text-align: right;\n    }\n</style>\n<table border=\"1\" class=\"dataframe\">\n  <thead>\n    <tr style=\"text-align: right;\">\n      <th></th>\n      <th>Open</th>\n      <th>High</th>\n      <th>Low</th>\n      <th>Close</th>\n      <th>Adj Close</th>\n      <th>Volume</th>\n    </tr>\n  </thead>\n  <tbody>\n    <tr>\n      <th>2020-12-09 09:30:00-05:00</th>\n      <td>28.680000</td>\n      <td>28.850000</td>\n      <td>26.709999</td>\n      <td>27.420000</td>\n      <td>27.420000</td>\n      <td>25848861</td>\n    </tr>\n    <tr>\n      <th>2020-12-09 10:30:00-05:00</th>\n      <td>27.424999</td>\n      <td>27.900000</td>\n      <td>27.190001</td>\n      <td>27.410000</td>\n      <td>27.410000</td>\n      <td>7646543</td>\n    </tr>\n    <tr>\n      <th>2020-12-09 11:30:00-05:00</th>\n      <td>27.410000</td>\n      <td>27.480000</td>\n      <td>26.950001</td>\n      <td>27.089899</td>\n      <td>27.089899</td>\n      <td>7067566</td>\n    </tr>\n    <tr>\n      <th>2020-12-09 12:30:00-05:00</th>\n      <td>27.084999</td>\n      <td>27.200001</td>\n      <td>26.040001</td>\n      <td>26.113400</td>\n      <td>26.113400</td>\n      <td>10450521</td>\n    </tr>\n    <tr>\n      <th>2020-12-09 13:30:00-05:00</th>\n      <td>26.139999</td>\n      <td>26.639999</td>\n      <td>25.330000</td>\n      <td>26.594999</td>\n      <td>26.594999</td>\n      <td>15899190</td>\n    </tr>\n  </tbody>\n</table>\n</div>"
     },
     "metadata": {},
     "execution_count": 6
    }
   ],
   "source": [
    "PLTR_price.head()"
   ]
  },
  {
   "cell_type": "code",
   "execution_count": 136,
   "metadata": {},
   "outputs": [
    {
     "output_type": "execute_result",
     "data": {
      "text/plain": [
       "pandas._libs.tslibs.timestamps.Timestamp"
      ]
     },
     "metadata": {},
     "execution_count": 136
    }
   ],
   "source": [
    "type(PLTR_price.index[0])"
   ]
  },
  {
   "cell_type": "code",
   "execution_count": 20,
   "metadata": {},
   "outputs": [],
   "source": [
    "#PLTR_price = PLTR_price['Adj Close']"
   ]
  },
  {
   "cell_type": "code",
   "execution_count": 138,
   "metadata": {},
   "outputs": [
    {
     "output_type": "execute_result",
     "data": {
      "text/plain": [
       "DatetimeIndex(['2020-12-08 09:30:00-05:00', '2020-12-08 10:30:00-05:00',\n",
       "               '2020-12-08 11:30:00-05:00', '2020-12-08 12:30:00-05:00',\n",
       "               '2020-12-08 13:30:00-05:00', '2020-12-08 14:30:00-05:00',\n",
       "               '2020-12-08 15:30:00-05:00', '2020-12-09 09:30:00-05:00',\n",
       "               '2020-12-09 10:30:00-05:00', '2020-12-09 11:30:00-05:00',\n",
       "               ...\n",
       "               '2021-06-04 13:30:00-04:00', '2021-06-04 14:30:00-04:00',\n",
       "               '2021-06-04 15:30:00-04:00', '2021-06-07 09:30:00-04:00',\n",
       "               '2021-06-07 10:30:00-04:00', '2021-06-07 11:30:00-04:00',\n",
       "               '2021-06-07 12:30:00-04:00', '2021-06-07 13:30:00-04:00',\n",
       "               '2021-06-07 14:30:00-04:00', '2021-06-07 15:30:00-04:00'],\n",
       "              dtype='datetime64[ns, America/New_York]', length=865, freq=None)"
      ]
     },
     "metadata": {},
     "execution_count": 138
    }
   ],
   "source": [
    "PLTR_price.index"
   ]
  },
  {
   "cell_type": "code",
   "execution_count": 139,
   "metadata": {},
   "outputs": [],
   "source": [
    "PLTR_price.index = PLTR_price.index.tz_convert(None)"
   ]
  },
  {
   "cell_type": "code",
   "execution_count": 140,
   "metadata": {},
   "outputs": [
    {
     "output_type": "execute_result",
     "data": {
      "text/plain": [
       "DatetimeIndex(['2020-12-08 14:30:00', '2020-12-08 15:30:00',\n",
       "               '2020-12-08 16:30:00', '2020-12-08 17:30:00',\n",
       "               '2020-12-08 18:30:00', '2020-12-08 19:30:00',\n",
       "               '2020-12-08 20:30:00', '2020-12-09 14:30:00',\n",
       "               '2020-12-09 15:30:00', '2020-12-09 16:30:00',\n",
       "               ...\n",
       "               '2021-06-04 17:30:00', '2021-06-04 18:30:00',\n",
       "               '2021-06-04 19:30:00', '2021-06-07 13:30:00',\n",
       "               '2021-06-07 14:30:00', '2021-06-07 15:30:00',\n",
       "               '2021-06-07 16:30:00', '2021-06-07 17:30:00',\n",
       "               '2021-06-07 18:30:00', '2021-06-07 19:30:00'],\n",
       "              dtype='datetime64[ns]', length=865, freq=None)"
      ]
     },
     "metadata": {},
     "execution_count": 140
    }
   ],
   "source": [
    "PLTR_price.index"
   ]
  },
  {
   "cell_type": "code",
   "execution_count": 78,
   "metadata": {},
   "outputs": [
    {
     "output_type": "stream",
     "name": "stdout",
     "text": [
      "<class 'pandas.core.frame.DataFrame'>\nRangeIndex: 172 entries, 0 to 171\nData columns (total 3 columns):\n #   Column   Non-Null Count  Dtype         \n---  ------   --------------  -----         \n 0   Date     172 non-null    datetime64[ns]\n 1   topic    172 non-null    object        \n 2   content  172 non-null    object        \ndtypes: datetime64[ns](1), object(2)\nmemory usage: 4.2+ KB\n"
     ]
    }
   ],
   "source": [
    "PLTR_raw.info()"
   ]
  },
  {
   "cell_type": "code",
   "execution_count": 79,
   "metadata": {},
   "outputs": [
    {
     "output_type": "stream",
     "name": "stdout",
     "text": [
      "<class 'pandas.core.frame.DataFrame'>\nDatetimeIndex: 172 entries, 2021-06-05 11:30:00 to 2021-03-04 13:56:00\nData columns (total 2 columns):\n #   Column   Non-Null Count  Dtype \n---  ------   --------------  ----- \n 0   topic    172 non-null    object\n 1   content  172 non-null    object\ndtypes: object(2)\nmemory usage: 4.0+ KB\n"
     ]
    }
   ],
   "source": [
    "PLTR_raw.set_index('Date',inplace=True)\n",
    "PLTR_raw.info()"
   ]
  },
  {
   "cell_type": "code",
   "execution_count": 80,
   "metadata": {},
   "outputs": [],
   "source": [
    "PLTR_raw.index = PLTR_raw.index.ceil('H')"
   ]
  },
  {
   "cell_type": "code",
   "execution_count": 81,
   "metadata": {},
   "outputs": [
    {
     "output_type": "execute_result",
     "data": {
      "text/plain": [
       "DatetimeIndex(['2021-06-05 12:00:00', '2021-06-04 21:00:00',\n",
       "               '2021-06-04 19:00:00', '2021-06-04 16:00:00',\n",
       "               '2021-06-04 15:00:00', '2021-06-03 15:00:00',\n",
       "               '2021-06-03 12:00:00', '2021-06-03 00:00:00',\n",
       "               '2021-06-02 21:00:00', '2021-06-02 19:00:00',\n",
       "               ...\n",
       "               '2021-03-09 15:00:00', '2021-03-09 12:00:00',\n",
       "               '2021-03-08 15:00:00', '2021-03-08 14:00:00',\n",
       "               '2021-03-08 10:00:00', '2021-03-07 23:00:00',\n",
       "               '2021-03-05 21:00:00', '2021-03-05 14:00:00',\n",
       "               '2021-03-05 10:00:00', '2021-03-04 14:00:00'],\n",
       "              dtype='datetime64[ns]', name='Date', length=172, freq=None)"
      ]
     },
     "metadata": {},
     "execution_count": 81
    }
   ],
   "source": [
    "PLTR_raw.index"
   ]
  },
  {
   "cell_type": "code",
   "execution_count": 82,
   "metadata": {},
   "outputs": [
    {
     "output_type": "execute_result",
     "data": {
      "text/plain": [
       "False"
      ]
     },
     "metadata": {},
     "execution_count": 82
    }
   ],
   "source": [
    "#news may be reported on the same hour, what should we do?\n",
    "PLTR_raw.index.is_unique"
   ]
  },
  {
   "cell_type": "code",
   "execution_count": 90,
   "metadata": {},
   "outputs": [
    {
     "output_type": "execute_result",
     "data": {
      "text/plain": [
       "2021-05-11 12:00:00    4\n",
       "2021-05-11 21:00:00    3\n",
       "2021-05-11 16:00:00    3\n",
       "2021-05-11 11:00:00    3\n",
       "2021-05-11 15:00:00    3\n",
       "2021-05-11 13:00:00    3\n",
       "2021-06-04 21:00:00    2\n",
       "2021-04-08 14:00:00    2\n",
       "2021-05-21 18:00:00    2\n",
       "2021-05-24 11:00:00    2\n",
       "2021-04-05 15:00:00    2\n",
       "2021-04-29 22:00:00    2\n",
       "2021-05-11 18:00:00    2\n",
       "2021-05-12 13:00:00    2\n",
       "2021-05-06 11:00:00    2\n",
       "2021-03-25 15:00:00    2\n",
       "2021-05-26 19:00:00    2\n",
       "Name: Date, dtype: int64"
      ]
     },
     "metadata": {},
     "execution_count": 90
    }
   ],
   "source": [
    "a = PLTR_raw.index.value_counts()\n",
    "a[a.values>1]"
   ]
  },
  {
   "cell_type": "code",
   "execution_count": 106,
   "metadata": {},
   "outputs": [],
   "source": [
    "for col in PLTR_raw.columns:\n",
    "    PLTR_raw[col] = PLTR_raw[col] + ' '\n",
    "PLTR_raw = PLTR_raw.groupby(level=0).sum()"
   ]
  },
  {
   "cell_type": "code",
   "execution_count": 107,
   "metadata": {
    "tags": []
   },
   "outputs": [
    {
     "output_type": "execute_result",
     "data": {
      "text/plain": [
       "                                                                 topic  \\\n",
       "Date                                                                     \n",
       "2021-03-04 14:00:00  Palantir Rises on Latest Ark Investment Stock ...   \n",
       "2021-03-05 10:00:00  Jim Cramer on Jobs Report, Broadcom, Costco, P...   \n",
       "\n",
       "                                                               content  \n",
       "Date                                                                    \n",
       "2021-03-04 14:00:00  https://www.thestreet.com/investing/palantir-r...  \n",
       "2021-03-05 10:00:00  https://www.thestreet.com/jim-cramer/stock-mar...  "
      ],
      "text/html": "<div>\n<style scoped>\n    .dataframe tbody tr th:only-of-type {\n        vertical-align: middle;\n    }\n\n    .dataframe tbody tr th {\n        vertical-align: top;\n    }\n\n    .dataframe thead th {\n        text-align: right;\n    }\n</style>\n<table border=\"1\" class=\"dataframe\">\n  <thead>\n    <tr style=\"text-align: right;\">\n      <th></th>\n      <th>topic</th>\n      <th>content</th>\n    </tr>\n    <tr>\n      <th>Date</th>\n      <th></th>\n      <th></th>\n    </tr>\n  </thead>\n  <tbody>\n    <tr>\n      <th>2021-03-04 14:00:00</th>\n      <td>Palantir Rises on Latest Ark Investment Stock ...</td>\n      <td>https://www.thestreet.com/investing/palantir-r...</td>\n    </tr>\n    <tr>\n      <th>2021-03-05 10:00:00</th>\n      <td>Jim Cramer on Jobs Report, Broadcom, Costco, P...</td>\n      <td>https://www.thestreet.com/jim-cramer/stock-mar...</td>\n    </tr>\n  </tbody>\n</table>\n</div>"
     },
     "metadata": {},
     "execution_count": 107
    }
   ],
   "source": [
    "PLTR_raw.head(2)"
   ]
  },
  {
   "cell_type": "code",
   "execution_count": 108,
   "metadata": {},
   "outputs": [
    {
     "output_type": "execute_result",
     "data": {
      "text/plain": [
       "True"
      ]
     },
     "metadata": {},
     "execution_count": 108
    }
   ],
   "source": [
    "PLTR_raw.index.is_unique"
   ]
  },
  {
   "cell_type": "code",
   "execution_count": 5,
   "metadata": {},
   "outputs": [],
   "source": [
    "import json"
   ]
  },
  {
   "cell_type": "code",
   "execution_count": 8,
   "metadata": {},
   "outputs": [],
   "source": [
    "with open('word_list_extended.txt','r') as f:\n",
    "    lmdict = eval(f.read())"
   ]
  },
  {
   "cell_type": "code",
   "execution_count": 114,
   "metadata": {},
   "outputs": [
    {
     "output_type": "stream",
     "name": "stderr",
     "text": [
      "[nltk_data] Downloading package vader_lexicon to\n[nltk_data]     C:\\Users\\Admin\\AppData\\Roaming\\nltk_data...\n"
     ]
    },
    {
     "output_type": "execute_result",
     "data": {
      "text/plain": [
       "True"
      ]
     },
     "metadata": {},
     "execution_count": 114
    }
   ],
   "source": [
    "import nltk\n",
    "nltk.download('vader_lexicon')"
   ]
  },
  {
   "cell_type": "code",
   "execution_count": 115,
   "metadata": {},
   "outputs": [],
   "source": [
    "import nltk\n",
    "from nltk.sentiment.vader import SentimentIntensityAnalyzer\n",
    "\n",
    "special_words = {\n",
    "    'crushes': 10,\n",
    "    'beats': 5,\n",
    "    'misses': -5,\n",
    "    'trouble': -10,\n",
    "    'falls': -10,\n",
    "    'exploded' : 4,\n",
    "    'able':2,\n",
    "}\n",
    "\n",
    "for i in lmdict[\"Negative\"]:\n",
    "  special_words[i]=-5\n",
    "\n",
    "for i in lmdict[\"Positive\"]:\n",
    "  special_words[i]=5\n",
    "\n",
    "vader = SentimentIntensityAnalyzer()\n",
    "vader.lexicon.update(special_words)"
   ]
  },
  {
   "cell_type": "code",
   "execution_count": 122,
   "metadata": {},
   "outputs": [
    {
     "output_type": "execute_result",
     "data": {
      "text/plain": [
       "'https://www.thestreet.com/investing/palantir-rises-on-latest-ark-investment-stock-purchase?puc=yahoo&cm_ven=YAHOO  '"
      ]
     },
     "metadata": {},
     "execution_count": 122
    }
   ],
   "source": [
    "PLTR_raw.iloc[0,1]"
   ]
  },
  {
   "cell_type": "code",
   "execution_count": 126,
   "metadata": {},
   "outputs": [
    {
     "output_type": "execute_result",
     "data": {
      "text/plain": [
       "{'neg': 0.181, 'neu': 0.734, 'pos': 0.085, 'compound': -0.987}"
      ]
     },
     "metadata": {},
     "execution_count": 126
    }
   ],
   "source": [
    "vader.polarity_scores(PLTR_raw.iloc[4,1])"
   ]
  },
  {
   "cell_type": "code",
   "execution_count": 120,
   "metadata": {},
   "outputs": [
    {
     "output_type": "execute_result",
     "data": {
      "text/plain": [
       "0.9932517730102834"
      ]
     },
     "metadata": {},
     "execution_count": 120
    }
   ],
   "source": [
    "import numpy as np\n",
    "np.log(2.7)"
   ]
  },
  {
   "cell_type": "code",
   "execution_count": 127,
   "metadata": {},
   "outputs": [],
   "source": [
    "import numpy as np\n",
    "def log_pos(x):\n",
    "    s = vader.polarity_scores(x)\n",
    "    return np.log((1 + s['pos'])/(1+s['neg']))\n",
    "#introduce from the paper"
   ]
  },
  {
   "cell_type": "code",
   "execution_count": 121,
   "metadata": {},
   "outputs": [
    {
     "output_type": "stream",
     "name": "stdout",
     "text": [
      "<class 'pandas.core.frame.DataFrame'>\nDatetimeIndex: 148 entries, 2021-03-04 14:00:00 to 2021-06-05 12:00:00\nData columns (total 2 columns):\n #   Column   Non-Null Count  Dtype \n---  ------   --------------  ----- \n 0   topic    148 non-null    object\n 1   content  148 non-null    object\ndtypes: object(2)\nmemory usage: 7.5+ KB\n"
     ]
    }
   ],
   "source": [
    "PLTR_raw.info()"
   ]
  },
  {
   "cell_type": "code",
   "execution_count": 129,
   "metadata": {},
   "outputs": [],
   "source": [
    "PLTR_raw['topic_comp'] = PLTR_raw['topic'].apply(lambda x: vader.polarity_scores(x)['compound'])\n",
    "PLTR_raw['content_comp'] = PLTR_raw['content'].apply(lambda x: vader.polarity_scores(x)['compound'])\n",
    "PLTR_raw['topic_logpos'] = PLTR_raw['topic'].apply(log_pos)\n",
    "PLTR_raw['content_logpos'] = PLTR_raw['content'].apply(log_pos)"
   ]
  },
  {
   "cell_type": "code",
   "execution_count": 96,
   "metadata": {},
   "outputs": [
    {
     "output_type": "execute_result",
     "data": {
      "text/plain": [
       "True"
      ]
     },
     "metadata": {},
     "execution_count": 96
    }
   ],
   "source": [
    "PLTR_price.index.is_unique"
   ]
  },
  {
   "cell_type": "code",
   "execution_count": 142,
   "metadata": {},
   "outputs": [
    {
     "output_type": "execute_result",
     "data": {
      "text/plain": [
       "                     topic_comp  content_comp  topic_logpos  content_logpos  \\\n",
       "2020-12-08 14:30:00         0.0           0.0           0.0             0.0   \n",
       "2020-12-08 15:30:00         0.0           0.0           0.0             0.0   \n",
       "2020-12-08 16:30:00         0.0           0.0           0.0             0.0   \n",
       "2020-12-08 17:30:00         0.0           0.0           0.0             0.0   \n",
       "2020-12-08 18:30:00         0.0           0.0           0.0             0.0   \n",
       "\n",
       "                          Open       High        Low      Close  Adj Close  \\\n",
       "2020-12-08 14:30:00  30.629999  31.240000  27.250000  27.400000  27.400000   \n",
       "2020-12-08 15:30:00  27.410000  29.480000  27.350000  29.280001  29.280001   \n",
       "2020-12-08 16:30:00  29.230000  29.280001  28.020000  28.579500  28.579500   \n",
       "2020-12-08 17:30:00  28.534800  29.250000  28.250000  29.249800  29.249800   \n",
       "2020-12-08 18:30:00  29.245001  29.420000  28.639999  28.930000  28.930000   \n",
       "\n",
       "                         Volume  \n",
       "2020-12-08 14:30:00  59863771.0  \n",
       "2020-12-08 15:30:00  24000340.0  \n",
       "2020-12-08 16:30:00   9936318.0  \n",
       "2020-12-08 17:30:00   9548209.0  \n",
       "2020-12-08 18:30:00   8673071.0  "
      ],
      "text/html": "<div>\n<style scoped>\n    .dataframe tbody tr th:only-of-type {\n        vertical-align: middle;\n    }\n\n    .dataframe tbody tr th {\n        vertical-align: top;\n    }\n\n    .dataframe thead th {\n        text-align: right;\n    }\n</style>\n<table border=\"1\" class=\"dataframe\">\n  <thead>\n    <tr style=\"text-align: right;\">\n      <th></th>\n      <th>topic_comp</th>\n      <th>content_comp</th>\n      <th>topic_logpos</th>\n      <th>content_logpos</th>\n      <th>Open</th>\n      <th>High</th>\n      <th>Low</th>\n      <th>Close</th>\n      <th>Adj Close</th>\n      <th>Volume</th>\n    </tr>\n  </thead>\n  <tbody>\n    <tr>\n      <th>2020-12-08 14:30:00</th>\n      <td>0.0</td>\n      <td>0.0</td>\n      <td>0.0</td>\n      <td>0.0</td>\n      <td>30.629999</td>\n      <td>31.240000</td>\n      <td>27.250000</td>\n      <td>27.400000</td>\n      <td>27.400000</td>\n      <td>59863771.0</td>\n    </tr>\n    <tr>\n      <th>2020-12-08 15:30:00</th>\n      <td>0.0</td>\n      <td>0.0</td>\n      <td>0.0</td>\n      <td>0.0</td>\n      <td>27.410000</td>\n      <td>29.480000</td>\n      <td>27.350000</td>\n      <td>29.280001</td>\n      <td>29.280001</td>\n      <td>24000340.0</td>\n    </tr>\n    <tr>\n      <th>2020-12-08 16:30:00</th>\n      <td>0.0</td>\n      <td>0.0</td>\n      <td>0.0</td>\n      <td>0.0</td>\n      <td>29.230000</td>\n      <td>29.280001</td>\n      <td>28.020000</td>\n      <td>28.579500</td>\n      <td>28.579500</td>\n      <td>9936318.0</td>\n    </tr>\n    <tr>\n      <th>2020-12-08 17:30:00</th>\n      <td>0.0</td>\n      <td>0.0</td>\n      <td>0.0</td>\n      <td>0.0</td>\n      <td>28.534800</td>\n      <td>29.250000</td>\n      <td>28.250000</td>\n      <td>29.249800</td>\n      <td>29.249800</td>\n      <td>9548209.0</td>\n    </tr>\n    <tr>\n      <th>2020-12-08 18:30:00</th>\n      <td>0.0</td>\n      <td>0.0</td>\n      <td>0.0</td>\n      <td>0.0</td>\n      <td>29.245001</td>\n      <td>29.420000</td>\n      <td>28.639999</td>\n      <td>28.930000</td>\n      <td>28.930000</td>\n      <td>8673071.0</td>\n    </tr>\n  </tbody>\n</table>\n</div>"
     },
     "metadata": {},
     "execution_count": 142
    }
   ],
   "source": [
    "df = pd.concat([PLTR_raw.drop(['topic','content'],axis=1),PLTR_price], axis=1)\n",
    "df.fillna(0,inplace=True)\n",
    "df.head()"
   ]
  },
  {
   "cell_type": "code",
   "execution_count": 154,
   "metadata": {},
   "outputs": [
    {
     "output_type": "stream",
     "name": "stdout",
     "text": [
      "[0.0    925\n1.0     88\nName: topic_comp, dtype: int64, 0.0    931\n1.0     82\nName: content_comp, dtype: int64]\n"
     ]
    }
   ],
   "source": [
    "print(list(map(lambda x : df[x].mask(df[x] != 0, 1).value_counts(), ['topic_comp','content_comp'])))"
   ]
  },
  {
   "cell_type": "code",
   "execution_count": 148,
   "metadata": {},
   "outputs": [
    {
     "output_type": "stream",
     "name": "stdout",
     "text": [
      "2020-12-08 14:30:00    59863771\n2021-06-07 19:30:00     5394269\nName: Volume, dtype: int64\nDate\n2021-03-04 14:00:00    0.0\n2021-06-05 12:00:00    0.0\nName: content_logpos, dtype: float64\n865 148\n"
     ]
    }
   ],
   "source": [
    "print(PLTR_price.iloc[[0,-1],-1])\n",
    "print(PLTR_raw.iloc[[0,-1],-1])\n",
    "print(len(PLTR_price),len(PLTR_raw))"
   ]
  },
  {
   "cell_type": "code",
   "execution_count": 155,
   "metadata": {},
   "outputs": [
    {
     "output_type": "stream",
     "name": "stdout",
     "text": [
      "<class 'pandas.core.frame.DataFrame'>\nDatetimeIndex: 610 entries, 2021-03-04 14:00:00 to 2021-06-07 19:30:00\nData columns (total 10 columns):\n #   Column          Non-Null Count  Dtype  \n---  ------          --------------  -----  \n 0   topic_comp      610 non-null    float64\n 1   content_comp    610 non-null    float64\n 2   topic_logpos    610 non-null    float64\n 3   content_logpos  610 non-null    float64\n 4   Open            610 non-null    float64\n 5   High            610 non-null    float64\n 6   Low             610 non-null    float64\n 7   Close           610 non-null    float64\n 8   Adj Close       610 non-null    float64\n 9   Volume          610 non-null    float64\ndtypes: float64(10)\nmemory usage: 52.4 KB\n"
     ]
    }
   ],
   "source": [
    "df_slim = df[df.index>datetime.datetime(2021,3,4,10)]\n",
    "df_slim.info()"
   ]
  },
  {
   "cell_type": "code",
   "execution_count": 160,
   "metadata": {},
   "outputs": [
    {
     "output_type": "execute_result",
     "data": {
      "text/plain": [
       "                     topic_comp  content_comp  topic_logpos  content_logpos\n",
       "2021-03-04 14:00:00         0.0           0.0           0.0             0.0\n",
       "2021-03-04 14:30:00         0.0           0.0           0.0             0.0\n",
       "2021-03-04 15:30:00         0.0           0.0           0.0             0.0\n",
       "2021-03-04 16:30:00         0.0           0.0           0.0             0.0\n",
       "2021-03-04 17:30:00         0.0           0.0           0.0             0.0\n",
       "...                         ...           ...           ...             ...\n",
       "2021-06-07 15:30:00         0.0           0.0           0.0             0.0\n",
       "2021-06-07 16:30:00         0.0           0.0           0.0             0.0\n",
       "2021-06-07 17:30:00         0.0           0.0           0.0             0.0\n",
       "2021-06-07 18:30:00         0.0           0.0           0.0             0.0\n",
       "2021-06-07 19:30:00         0.0           0.0           0.0             0.0\n",
       "\n",
       "[610 rows x 4 columns]"
      ],
      "text/html": "<div>\n<style scoped>\n    .dataframe tbody tr th:only-of-type {\n        vertical-align: middle;\n    }\n\n    .dataframe tbody tr th {\n        vertical-align: top;\n    }\n\n    .dataframe thead th {\n        text-align: right;\n    }\n</style>\n<table border=\"1\" class=\"dataframe\">\n  <thead>\n    <tr style=\"text-align: right;\">\n      <th></th>\n      <th>topic_comp</th>\n      <th>content_comp</th>\n      <th>topic_logpos</th>\n      <th>content_logpos</th>\n    </tr>\n  </thead>\n  <tbody>\n    <tr>\n      <th>2021-03-04 14:00:00</th>\n      <td>0.0</td>\n      <td>0.0</td>\n      <td>0.0</td>\n      <td>0.0</td>\n    </tr>\n    <tr>\n      <th>2021-03-04 14:30:00</th>\n      <td>0.0</td>\n      <td>0.0</td>\n      <td>0.0</td>\n      <td>0.0</td>\n    </tr>\n    <tr>\n      <th>2021-03-04 15:30:00</th>\n      <td>0.0</td>\n      <td>0.0</td>\n      <td>0.0</td>\n      <td>0.0</td>\n    </tr>\n    <tr>\n      <th>2021-03-04 16:30:00</th>\n      <td>0.0</td>\n      <td>0.0</td>\n      <td>0.0</td>\n      <td>0.0</td>\n    </tr>\n    <tr>\n      <th>2021-03-04 17:30:00</th>\n      <td>0.0</td>\n      <td>0.0</td>\n      <td>0.0</td>\n      <td>0.0</td>\n    </tr>\n    <tr>\n      <th>...</th>\n      <td>...</td>\n      <td>...</td>\n      <td>...</td>\n      <td>...</td>\n    </tr>\n    <tr>\n      <th>2021-06-07 15:30:00</th>\n      <td>0.0</td>\n      <td>0.0</td>\n      <td>0.0</td>\n      <td>0.0</td>\n    </tr>\n    <tr>\n      <th>2021-06-07 16:30:00</th>\n      <td>0.0</td>\n      <td>0.0</td>\n      <td>0.0</td>\n      <td>0.0</td>\n    </tr>\n    <tr>\n      <th>2021-06-07 17:30:00</th>\n      <td>0.0</td>\n      <td>0.0</td>\n      <td>0.0</td>\n      <td>0.0</td>\n    </tr>\n    <tr>\n      <th>2021-06-07 18:30:00</th>\n      <td>0.0</td>\n      <td>0.0</td>\n      <td>0.0</td>\n      <td>0.0</td>\n    </tr>\n    <tr>\n      <th>2021-06-07 19:30:00</th>\n      <td>0.0</td>\n      <td>0.0</td>\n      <td>0.0</td>\n      <td>0.0</td>\n    </tr>\n  </tbody>\n</table>\n<p>610 rows × 4 columns</p>\n</div>"
     },
     "metadata": {},
     "execution_count": 160
    }
   ],
   "source": [
    "df_slim.iloc[:,:4]"
   ]
  },
  {
   "cell_type": "code",
   "execution_count": 211,
   "metadata": {},
   "outputs": [],
   "source": [
    "#separate train and test\n",
    "from sklearn.model_selection import train_test_split\n",
    "y = df_slim['Adj Close']\n",
    "X = df_slim.drop(['Adj Close','Close'],axis=1)\n",
    "X_train, X_test, y_train, y_test = train_test_split(X, y, test_size=0.1, random_state=42, shuffle=False)"
   ]
  },
  {
   "cell_type": "code",
   "execution_count": 213,
   "metadata": {},
   "outputs": [],
   "source": [
    "#normalize\n",
    "from sklearn.preprocessing import StandardScaler\n",
    "sc = StandardScaler()\n",
    "X_train_scaled = sc.fit_transform(X_train[['Open', 'High', 'Low', 'Volume']])\n",
    "X_train_scaled = pd.concat([X_train.iloc[:,:4], pd.DataFrame(X_train_scaled,index=X_train.index)], axis=1)\n",
    "\n",
    "sc_predict = StandardScaler()\n",
    "X_test_scaled = sc_predict.fit_transform(X_test[['Open','High', 'Low', 'Volume']])\n",
    "X_tset_scaled = pd.concat([X_test.iloc[:,:4], pd.DataFrame(X_test_scaled,index=X_test.index)], axis=1)"
   ]
  },
  {
   "cell_type": "code",
   "execution_count": 214,
   "metadata": {},
   "outputs": [
    {
     "output_type": "execute_result",
     "data": {
      "text/plain": [
       "                     topic_comp  content_comp  topic_logpos  content_logpos  \\\n",
       "2021-03-04 14:00:00         0.0           0.0           0.0             0.0   \n",
       "2021-03-04 14:30:00         0.0           0.0           0.0             0.0   \n",
       "2021-03-04 15:30:00         0.0           0.0           0.0             0.0   \n",
       "2021-03-04 16:30:00         0.0           0.0           0.0             0.0   \n",
       "2021-03-04 17:30:00         0.0           0.0           0.0             0.0   \n",
       "...                         ...           ...           ...             ...   \n",
       "2021-05-27 14:30:00         0.0           0.0           0.0             0.0   \n",
       "2021-05-27 15:30:00         0.0           0.0           0.0             0.0   \n",
       "2021-05-27 16:30:00         0.0           0.0           0.0             0.0   \n",
       "2021-05-27 17:30:00         0.0           0.0           0.0             0.0   \n",
       "2021-05-27 18:30:00         0.0           0.0           0.0             0.0   \n",
       "\n",
       "                            0         1         2         3  \n",
       "2021-03-04 14:00:00 -1.769559 -1.769632 -1.769449 -0.837428  \n",
       "2021-03-04 14:30:00  0.770548  0.769688  0.633694  4.378979  \n",
       "2021-03-04 15:30:00  0.702063  0.756526  0.710116  1.526983  \n",
       "2021-03-04 16:30:00  0.738861  0.818288  0.752457  2.805379  \n",
       "2021-03-04 17:30:00  0.770548  0.760576  0.681199  1.930778  \n",
       "...                       ...       ...       ...       ...  \n",
       "2021-05-27 14:30:00  0.495583  0.481129  0.485106  0.029559  \n",
       "2021-05-27 15:30:00  0.474628  0.471004  0.492211 -0.339867  \n",
       "2021-05-27 16:30:00  0.489961  0.499354  0.508724  0.003578  \n",
       "2021-05-27 17:30:00  0.511028  0.505429  0.531971 -0.164510  \n",
       "2021-05-27 18:30:00  0.526259  0.515554  0.547978 -0.091693  \n",
       "\n",
       "[549 rows x 8 columns]"
      ],
      "text/html": "<div>\n<style scoped>\n    .dataframe tbody tr th:only-of-type {\n        vertical-align: middle;\n    }\n\n    .dataframe tbody tr th {\n        vertical-align: top;\n    }\n\n    .dataframe thead th {\n        text-align: right;\n    }\n</style>\n<table border=\"1\" class=\"dataframe\">\n  <thead>\n    <tr style=\"text-align: right;\">\n      <th></th>\n      <th>topic_comp</th>\n      <th>content_comp</th>\n      <th>topic_logpos</th>\n      <th>content_logpos</th>\n      <th>0</th>\n      <th>1</th>\n      <th>2</th>\n      <th>3</th>\n    </tr>\n  </thead>\n  <tbody>\n    <tr>\n      <th>2021-03-04 14:00:00</th>\n      <td>0.0</td>\n      <td>0.0</td>\n      <td>0.0</td>\n      <td>0.0</td>\n      <td>-1.769559</td>\n      <td>-1.769632</td>\n      <td>-1.769449</td>\n      <td>-0.837428</td>\n    </tr>\n    <tr>\n      <th>2021-03-04 14:30:00</th>\n      <td>0.0</td>\n      <td>0.0</td>\n      <td>0.0</td>\n      <td>0.0</td>\n      <td>0.770548</td>\n      <td>0.769688</td>\n      <td>0.633694</td>\n      <td>4.378979</td>\n    </tr>\n    <tr>\n      <th>2021-03-04 15:30:00</th>\n      <td>0.0</td>\n      <td>0.0</td>\n      <td>0.0</td>\n      <td>0.0</td>\n      <td>0.702063</td>\n      <td>0.756526</td>\n      <td>0.710116</td>\n      <td>1.526983</td>\n    </tr>\n    <tr>\n      <th>2021-03-04 16:30:00</th>\n      <td>0.0</td>\n      <td>0.0</td>\n      <td>0.0</td>\n      <td>0.0</td>\n      <td>0.738861</td>\n      <td>0.818288</td>\n      <td>0.752457</td>\n      <td>2.805379</td>\n    </tr>\n    <tr>\n      <th>2021-03-04 17:30:00</th>\n      <td>0.0</td>\n      <td>0.0</td>\n      <td>0.0</td>\n      <td>0.0</td>\n      <td>0.770548</td>\n      <td>0.760576</td>\n      <td>0.681199</td>\n      <td>1.930778</td>\n    </tr>\n    <tr>\n      <th>...</th>\n      <td>...</td>\n      <td>...</td>\n      <td>...</td>\n      <td>...</td>\n      <td>...</td>\n      <td>...</td>\n      <td>...</td>\n      <td>...</td>\n    </tr>\n    <tr>\n      <th>2021-05-27 14:30:00</th>\n      <td>0.0</td>\n      <td>0.0</td>\n      <td>0.0</td>\n      <td>0.0</td>\n      <td>0.495583</td>\n      <td>0.481129</td>\n      <td>0.485106</td>\n      <td>0.029559</td>\n    </tr>\n    <tr>\n      <th>2021-05-27 15:30:00</th>\n      <td>0.0</td>\n      <td>0.0</td>\n      <td>0.0</td>\n      <td>0.0</td>\n      <td>0.474628</td>\n      <td>0.471004</td>\n      <td>0.492211</td>\n      <td>-0.339867</td>\n    </tr>\n    <tr>\n      <th>2021-05-27 16:30:00</th>\n      <td>0.0</td>\n      <td>0.0</td>\n      <td>0.0</td>\n      <td>0.0</td>\n      <td>0.489961</td>\n      <td>0.499354</td>\n      <td>0.508724</td>\n      <td>0.003578</td>\n    </tr>\n    <tr>\n      <th>2021-05-27 17:30:00</th>\n      <td>0.0</td>\n      <td>0.0</td>\n      <td>0.0</td>\n      <td>0.0</td>\n      <td>0.511028</td>\n      <td>0.505429</td>\n      <td>0.531971</td>\n      <td>-0.164510</td>\n    </tr>\n    <tr>\n      <th>2021-05-27 18:30:00</th>\n      <td>0.0</td>\n      <td>0.0</td>\n      <td>0.0</td>\n      <td>0.0</td>\n      <td>0.526259</td>\n      <td>0.515554</td>\n      <td>0.547978</td>\n      <td>-0.091693</td>\n    </tr>\n  </tbody>\n</table>\n<p>549 rows × 8 columns</p>\n</div>"
     },
     "metadata": {},
     "execution_count": 214
    }
   ],
   "source": [
    "X_train_scaled"
   ]
  },
  {
   "cell_type": "code",
   "execution_count": 218,
   "metadata": {},
   "outputs": [
    {
     "output_type": "execute_result",
     "data": {
      "text/plain": [
       "pandas.core.series.Series"
      ]
     },
     "metadata": {},
     "execution_count": 218
    }
   ],
   "source": [
    "type(y_train)"
   ]
  },
  {
   "cell_type": "code",
   "execution_count": 208,
   "metadata": {},
   "outputs": [],
   "source": [
    "#LAG\n",
    "#X_train_scaled[[0,1,2,3]] = X_train_scaled[[0,1,2,3]].shift(-1)"
   ]
  },
  {
   "cell_type": "code",
   "execution_count": 221,
   "metadata": {},
   "outputs": [
    {
     "output_type": "execute_result",
     "data": {
      "text/plain": [
       "                     topic_comp  content_comp  topic_logpos  content_logpos  \\\n",
       "2021-03-04 14:00:00         0.0           0.0           0.0             0.0   \n",
       "2021-03-04 14:30:00         0.0           0.0           0.0             0.0   \n",
       "2021-03-04 15:30:00         0.0           0.0           0.0             0.0   \n",
       "2021-03-04 16:30:00         0.0           0.0           0.0             0.0   \n",
       "2021-03-04 17:30:00         0.0           0.0           0.0             0.0   \n",
       "...                         ...           ...           ...             ...   \n",
       "2021-05-27 14:30:00         0.0           0.0           0.0             0.0   \n",
       "2021-05-27 15:30:00         0.0           0.0           0.0             0.0   \n",
       "2021-05-27 16:30:00         0.0           0.0           0.0             0.0   \n",
       "2021-05-27 17:30:00         0.0           0.0           0.0             0.0   \n",
       "2021-05-27 18:30:00         0.0           0.0           0.0             0.0   \n",
       "\n",
       "                            0         1         2         3  Adj Close  \n",
       "2021-03-04 14:00:00 -1.769559 -1.769632 -1.769449 -0.837428   0.000000  \n",
       "2021-03-04 14:30:00  0.770548  0.769688  0.633694  4.378979  24.190001  \n",
       "2021-03-04 15:30:00  0.702063  0.756526  0.710116  1.526983  24.540100  \n",
       "2021-03-04 16:30:00  0.738861  0.818288  0.752457  2.805379  24.855000  \n",
       "2021-03-04 17:30:00  0.770548  0.760576  0.681199  1.930778  24.174999  \n",
       "...                       ...       ...       ...       ...        ...  \n",
       "2021-05-27 14:30:00  0.495583  0.481129  0.485106  0.029559  21.959999  \n",
       "2021-05-27 15:30:00  0.474628  0.471004  0.492211 -0.339867  22.100599  \n",
       "2021-05-27 16:30:00  0.489961  0.499354  0.508724  0.003578  22.309999  \n",
       "2021-05-27 17:30:00  0.511028  0.505429  0.531971 -0.164510  22.462099  \n",
       "2021-05-27 18:30:00  0.526259  0.515554  0.547978 -0.091693  22.565001  \n",
       "\n",
       "[549 rows x 9 columns]"
      ],
      "text/html": "<div>\n<style scoped>\n    .dataframe tbody tr th:only-of-type {\n        vertical-align: middle;\n    }\n\n    .dataframe tbody tr th {\n        vertical-align: top;\n    }\n\n    .dataframe thead th {\n        text-align: right;\n    }\n</style>\n<table border=\"1\" class=\"dataframe\">\n  <thead>\n    <tr style=\"text-align: right;\">\n      <th></th>\n      <th>topic_comp</th>\n      <th>content_comp</th>\n      <th>topic_logpos</th>\n      <th>content_logpos</th>\n      <th>0</th>\n      <th>1</th>\n      <th>2</th>\n      <th>3</th>\n      <th>Adj Close</th>\n    </tr>\n  </thead>\n  <tbody>\n    <tr>\n      <th>2021-03-04 14:00:00</th>\n      <td>0.0</td>\n      <td>0.0</td>\n      <td>0.0</td>\n      <td>0.0</td>\n      <td>-1.769559</td>\n      <td>-1.769632</td>\n      <td>-1.769449</td>\n      <td>-0.837428</td>\n      <td>0.000000</td>\n    </tr>\n    <tr>\n      <th>2021-03-04 14:30:00</th>\n      <td>0.0</td>\n      <td>0.0</td>\n      <td>0.0</td>\n      <td>0.0</td>\n      <td>0.770548</td>\n      <td>0.769688</td>\n      <td>0.633694</td>\n      <td>4.378979</td>\n      <td>24.190001</td>\n    </tr>\n    <tr>\n      <th>2021-03-04 15:30:00</th>\n      <td>0.0</td>\n      <td>0.0</td>\n      <td>0.0</td>\n      <td>0.0</td>\n      <td>0.702063</td>\n      <td>0.756526</td>\n      <td>0.710116</td>\n      <td>1.526983</td>\n      <td>24.540100</td>\n    </tr>\n    <tr>\n      <th>2021-03-04 16:30:00</th>\n      <td>0.0</td>\n      <td>0.0</td>\n      <td>0.0</td>\n      <td>0.0</td>\n      <td>0.738861</td>\n      <td>0.818288</td>\n      <td>0.752457</td>\n      <td>2.805379</td>\n      <td>24.855000</td>\n    </tr>\n    <tr>\n      <th>2021-03-04 17:30:00</th>\n      <td>0.0</td>\n      <td>0.0</td>\n      <td>0.0</td>\n      <td>0.0</td>\n      <td>0.770548</td>\n      <td>0.760576</td>\n      <td>0.681199</td>\n      <td>1.930778</td>\n      <td>24.174999</td>\n    </tr>\n    <tr>\n      <th>...</th>\n      <td>...</td>\n      <td>...</td>\n      <td>...</td>\n      <td>...</td>\n      <td>...</td>\n      <td>...</td>\n      <td>...</td>\n      <td>...</td>\n      <td>...</td>\n    </tr>\n    <tr>\n      <th>2021-05-27 14:30:00</th>\n      <td>0.0</td>\n      <td>0.0</td>\n      <td>0.0</td>\n      <td>0.0</td>\n      <td>0.495583</td>\n      <td>0.481129</td>\n      <td>0.485106</td>\n      <td>0.029559</td>\n      <td>21.959999</td>\n    </tr>\n    <tr>\n      <th>2021-05-27 15:30:00</th>\n      <td>0.0</td>\n      <td>0.0</td>\n      <td>0.0</td>\n      <td>0.0</td>\n      <td>0.474628</td>\n      <td>0.471004</td>\n      <td>0.492211</td>\n      <td>-0.339867</td>\n      <td>22.100599</td>\n    </tr>\n    <tr>\n      <th>2021-05-27 16:30:00</th>\n      <td>0.0</td>\n      <td>0.0</td>\n      <td>0.0</td>\n      <td>0.0</td>\n      <td>0.489961</td>\n      <td>0.499354</td>\n      <td>0.508724</td>\n      <td>0.003578</td>\n      <td>22.309999</td>\n    </tr>\n    <tr>\n      <th>2021-05-27 17:30:00</th>\n      <td>0.0</td>\n      <td>0.0</td>\n      <td>0.0</td>\n      <td>0.0</td>\n      <td>0.511028</td>\n      <td>0.505429</td>\n      <td>0.531971</td>\n      <td>-0.164510</td>\n      <td>22.462099</td>\n    </tr>\n    <tr>\n      <th>2021-05-27 18:30:00</th>\n      <td>0.0</td>\n      <td>0.0</td>\n      <td>0.0</td>\n      <td>0.0</td>\n      <td>0.526259</td>\n      <td>0.515554</td>\n      <td>0.547978</td>\n      <td>-0.091693</td>\n      <td>22.565001</td>\n    </tr>\n  </tbody>\n</table>\n<p>549 rows × 9 columns</p>\n</div>"
     },
     "metadata": {},
     "execution_count": 221
    }
   ],
   "source": [
    "train_scaled = X_train_scaled.join(y_train)\n",
    "train_scaled"
   ]
  },
  {
   "cell_type": "code",
   "execution_count": null,
   "metadata": {},
   "outputs": [],
   "source": [
    "train_scaled = train_scaled.to_numpy()"
   ]
  },
  {
   "cell_type": "code",
   "execution_count": 228,
   "metadata": {},
   "outputs": [
    {
     "output_type": "stream",
     "name": "stdout",
     "text": [
      "train_scaled shape: (549, 9)\nX_train shape == (539, 9, 9).\ny_train shape == (539, 1).\n"
     ]
    }
   ],
   "source": [
    "print('train_scaled shape:',train_scaled.shape)\n",
    "X_train = []\n",
    "y_train = []\n",
    "\n",
    "n_future = 2   # Number of days we want to predict into the future\n",
    "n_past = 9     # Number of past hours we want to use to predict the future\n",
    "\n",
    "for i in range(n_past, len(train_scaled) - n_future +1):\n",
    "    X_train.append(train_scaled[i - n_past:i, 0: train_scaled.shape[1]])\n",
    "    y_train.append(train_scaled[i + n_future - 1:i + n_future, -1])\n",
    "\n",
    "X_train, y_train = np.array(X_train), np.array(y_train)\n",
    "\n",
    "print('X_train shape == {}.'.format(X_train.shape))\n",
    "print('y_train shape == {}.'.format(y_train.shape))"
   ]
  },
  {
   "cell_type": "code",
   "execution_count": null,
   "metadata": {},
   "outputs": [],
   "source": []
  },
  {
   "cell_type": "code",
   "execution_count": 235,
   "metadata": {},
   "outputs": [],
   "source": [
    "from keras.models import Sequential\n",
    "from keras.layers import Dense\n",
    "from keras.layers import LSTM\n",
    "from keras.layers import Dropout\n",
    "from keras.optimizers import Adam\n",
    "from keras.callbacks import EarlyStopping, ReduceLROnPlateau, ModelCheckpoint, TensorBoard"
   ]
  },
  {
   "cell_type": "code",
   "execution_count": 240,
   "metadata": {},
   "outputs": [],
   "source": [
    "# Initializing the Neural Network based on LSTM\n",
    "model = Sequential()\n",
    "\n",
    "# Adding 1st LSTM layer\n",
    "model.add(LSTM(units=64, return_sequences=True, input_shape=(X_train.shape[1], X_train.shape[2])))\n",
    "\n",
    "# Adding 2nd LSTM layer\n",
    "model.add(LSTM(units=10, return_sequences=False))\n",
    "\n",
    "# Adding Dropout\n",
    "model.add(Dropout(0.25))\n",
    "\n",
    "# Output layer\n",
    "model.add(Dense(units=1, activation='linear'))\n",
    "#model.add(Dense(trainY.shape[1]))\n",
    "\n",
    "# Compiling the Neural Network\n",
    "model.compile(optimizer = Adam(learning_rate=0.01), loss='mean_squared_error')"
   ]
  },
  {
   "cell_type": "code",
   "execution_count": 241,
   "metadata": {},
   "outputs": [
    {
     "output_type": "stream",
     "name": "stdout",
     "text": [
      "Epoch 1/300\n",
      "15/15 [==============================] - 9s 331ms/step - loss: 318.0138 - val_loss: 181.7119\n",
      "\n",
      "Epoch 00001: val_loss improved from inf to 181.71190, saving model to weights.h5\n",
      "Epoch 2/300\n",
      "15/15 [==============================] - 0s 14ms/step - loss: 235.1950 - val_loss: 150.8503\n",
      "\n",
      "Epoch 00002: val_loss improved from 181.71190 to 150.85033, saving model to weights.h5\n",
      "Epoch 3/300\n",
      "15/15 [==============================] - 0s 13ms/step - loss: 203.4917 - val_loss: 127.4797\n",
      "\n",
      "Epoch 00003: val_loss improved from 150.85033 to 127.47971, saving model to weights.h5\n",
      "Epoch 4/300\n",
      "15/15 [==============================] - 0s 12ms/step - loss: 170.9954 - val_loss: 110.5626\n",
      "\n",
      "Epoch 00004: val_loss improved from 127.47971 to 110.56256, saving model to weights.h5\n",
      "Epoch 5/300\n",
      "15/15 [==============================] - 0s 11ms/step - loss: 155.4615 - val_loss: 98.6233\n",
      "\n",
      "Epoch 00005: val_loss improved from 110.56256 to 98.62328, saving model to weights.h5\n",
      "Epoch 6/300\n",
      "15/15 [==============================] - 0s 12ms/step - loss: 140.0771 - val_loss: 90.7069\n",
      "\n",
      "Epoch 00006: val_loss improved from 98.62328 to 90.70686, saving model to weights.h5\n",
      "Epoch 7/300\n",
      "15/15 [==============================] - 0s 11ms/step - loss: 131.5536 - val_loss: 85.5732\n",
      "\n",
      "Epoch 00007: val_loss improved from 90.70686 to 85.57320, saving model to weights.h5\n",
      "Epoch 8/300\n",
      "15/15 [==============================] - 0s 14ms/step - loss: 118.7290 - val_loss: 82.8685\n",
      "\n",
      "Epoch 00008: val_loss improved from 85.57320 to 82.86850, saving model to weights.h5\n",
      "Epoch 9/300\n",
      "15/15 [==============================] - 0s 11ms/step - loss: 107.9306 - val_loss: 81.5420\n",
      "\n",
      "Epoch 00009: val_loss improved from 82.86850 to 81.54196, saving model to weights.h5\n",
      "Epoch 10/300\n",
      "15/15 [==============================] - 0s 11ms/step - loss: 108.9963 - val_loss: 81.1544\n",
      "\n",
      "Epoch 00010: val_loss improved from 81.54196 to 81.15444, saving model to weights.h5\n",
      "Epoch 11/300\n",
      "15/15 [==============================] - 0s 11ms/step - loss: 108.8421 - val_loss: 81.2534\n",
      "\n",
      "Epoch 00011: val_loss did not improve from 81.15444\n",
      "Epoch 12/300\n",
      "15/15 [==============================] - 0s 12ms/step - loss: 105.5090 - val_loss: 81.6216\n",
      "\n",
      "Epoch 00012: val_loss did not improve from 81.15444\n",
      "Epoch 13/300\n",
      "15/15 [==============================] - 0s 13ms/step - loss: 110.1274 - val_loss: 82.1639\n",
      "\n",
      "Epoch 00013: val_loss did not improve from 81.15444\n",
      "Epoch 14/300\n",
      "15/15 [==============================] - 0s 10ms/step - loss: 102.0508 - val_loss: 82.7336\n",
      "\n",
      "Epoch 00014: val_loss did not improve from 81.15444\n",
      "Epoch 15/300\n",
      "15/15 [==============================] - 0s 12ms/step - loss: 105.1576 - val_loss: 83.1538\n",
      "\n",
      "Epoch 00015: val_loss did not improve from 81.15444\n",
      "Epoch 16/300\n",
      "15/15 [==============================] - 0s 11ms/step - loss: 106.4019 - val_loss: 83.5656\n",
      "\n",
      "Epoch 00016: val_loss did not improve from 81.15444\n",
      "Epoch 17/300\n",
      "15/15 [==============================] - 0s 14ms/step - loss: 105.5831 - val_loss: 84.0534\n",
      "\n",
      "Epoch 00017: val_loss did not improve from 81.15444\n",
      "Epoch 18/300\n",
      "15/15 [==============================] - 0s 11ms/step - loss: 99.1716 - val_loss: 84.3070\n",
      "\n",
      "Epoch 00018: val_loss did not improve from 81.15444\n",
      "Epoch 19/300\n",
      "15/15 [==============================] - 0s 11ms/step - loss: 110.0243 - val_loss: 84.2801\n",
      "\n",
      "Epoch 00019: val_loss did not improve from 81.15444\n",
      "Epoch 20/300\n",
      "15/15 [==============================] - 0s 10ms/step - loss: 94.4186 - val_loss: 84.5625\n",
      "\n",
      "Epoch 00020: ReduceLROnPlateau reducing learning rate to 0.004999999888241291.\n",
      "\n",
      "Epoch 00020: val_loss did not improve from 81.15444\n",
      "Epoch 00020: early stopping\n",
      "Wall time: 14.9 s\n"
     ]
    }
   ],
   "source": [
    "%%time\n",
    "es = EarlyStopping(monitor='val_loss', min_delta=1e-10, patience=10, verbose=1)\n",
    "rlr = ReduceLROnPlateau(monitor='val_loss', factor=0.5, patience=10, verbose=1)\n",
    "mcp = ModelCheckpoint(filepath='weights.h5', monitor='val_loss', verbose=1, save_best_only=True, save_weights_only=True)\n",
    "\n",
    "tb = TensorBoard('logs')\n",
    "\n",
    "history = model.fit(X_train, y_train, shuffle=True, epochs=300, callbacks=[es, rlr, mcp, tb], validation_split=0.2, verbose=1, batch_size=30)"
   ]
  },
  {
   "cell_type": "code",
   "execution_count": null,
   "metadata": {},
   "outputs": [],
   "source": []
  },
  {
   "cell_type": "code",
   "execution_count": null,
   "metadata": {},
   "outputs": [],
   "source": []
  },
  {
   "cell_type": "code",
   "execution_count": null,
   "metadata": {},
   "outputs": [],
   "source": []
  },
  {
   "cell_type": "code",
   "execution_count": null,
   "metadata": {},
   "outputs": [],
   "source": [
    "https://github.com/bnsreenu/python_for_microscopists/blob/master/181_multivariate_timeseries_LSTM_GE.py\n",
    "https://github.com/vb100/multivariate-lstm/blob/master/LSTM_model_stocks.ipynb\n"
   ]
  },
  {
   "cell_type": "code",
   "execution_count": null,
   "metadata": {},
   "outputs": [],
   "source": [
    "multivariate time series forecasting using lstm"
   ]
  },
  {
   "cell_type": "code",
   "execution_count": null,
   "metadata": {},
   "outputs": [],
   "source": []
  },
  {
   "cell_type": "code",
   "execution_count": null,
   "metadata": {},
   "outputs": [],
   "source": []
  },
  {
   "cell_type": "code",
   "execution_count": null,
   "metadata": {},
   "outputs": [],
   "source": [
    "#capture the error ##FLAG\n",
    "def parse_prefix(line, fmt):\n",
    "    try:\n",
    "        t = time.strptime(line, fmt)\n",
    "    except ValueError as v:\n",
    "        if len(v.args) > 0 and v.args[0].startswith('unconverted data remains: '):\n",
    "            line = line[:-(len(v.args[0]) - 26)]\n",
    "            t = time.strptime(line, fmt)\n",
    "        else:\n",
    "            raise\n",
    "    return t"
   ]
  },
  {
   "cell_type": "code",
   "execution_count": null,
   "metadata": {},
   "outputs": [],
   "source": []
  }
 ]
}