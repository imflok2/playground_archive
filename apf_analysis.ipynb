{
 "cells": [
  {
   "cell_type": "code",
   "execution_count": 2,
   "metadata": {},
   "outputs": [],
   "source": [
    "import seaborn as sns\n",
    "import pandas as pd\n",
    "import matplotlib.pyplot as plt\n",
    "from sklearn.model_selection import train_test_split\n",
    "import category_encoders as ce\n",
    "from sklearn.linear_model import LinearRegression\n",
    "import numpy as np"
   ]
  },
  {
   "cell_type": "code",
   "execution_count": 6,
   "metadata": {},
   "outputs": [
    {
     "output_type": "stream",
     "name": "stdout",
     "text": [
      "Collecting openpyxl\n",
      "  Downloading openpyxl-3.0.7-py2.py3-none-any.whl (243 kB)\n",
      "Collecting et-xmlfile\n",
      "  Downloading et_xmlfile-1.1.0-py3-none-any.whl (4.7 kB)\n",
      "Installing collected packages: et-xmlfile, openpyxl\n",
      "Successfully installed et-xmlfile-1.1.0 openpyxl-3.0.7\n",
      "WARNING: You are using pip version 21.0.1; however, version 21.1.1 is available.\n",
      "You should consider upgrading via the 'c:\\users\\admin\\appdata\\local\\programs\\python\\python38\\python.exe -m pip install --upgrade pip' command.\n"
     ]
    }
   ],
   "source": [
    "!pip install openpyxl"
   ]
  },
  {
   "cell_type": "code",
   "execution_count": 11,
   "metadata": {},
   "outputs": [
    {
     "output_type": "stream",
     "name": "stdout",
     "text": [
      " Volume in drive G is G\n Volume Serial Number is 1C7D-A999\n\n Directory of g:\\xasm\\FTDS_GitHub\\Kaggle_dataset\n\n11/16/2019  03:15 PM       716,070,191 Cleaned_2018_Flights.csv\n               1 File(s)    716,070,191 bytes\n               0 Dir(s)  10,395,222,016 bytes free\n"
     ]
    }
   ],
   "source": [
    "!dir ..\\Kaggle_dataset\\Cleaned_2018_Flights.csv"
   ]
  },
  {
   "cell_type": "code",
   "execution_count": 20,
   "metadata": {},
   "outputs": [],
   "source": [
    "df = pd.read_csv('../Kaggle_dataset/Cleaned_2018_Flights.csv')"
   ]
  },
  {
   "cell_type": "code",
   "execution_count": 7,
   "metadata": {},
   "outputs": [],
   "source": [
    "app_df = pd.read_excel('Airport Rankings 2018.xlsx',header=2,usecols=[0,1])"
   ]
  },
  {
   "cell_type": "code",
   "execution_count": 8,
   "metadata": {},
   "outputs": [
    {
     "output_type": "execute_result",
     "data": {
      "text/plain": [
       "  2018 Rank            Airport\n",
       "0         1            Atlanta\n",
       "1         2        Los Angeles\n",
       "2         3     Chicago O'Hare\n",
       "3         4  Dallas/Fort Worth\n",
       "4         5             Denver"
      ],
      "text/html": "<div>\n<style scoped>\n    .dataframe tbody tr th:only-of-type {\n        vertical-align: middle;\n    }\n\n    .dataframe tbody tr th {\n        vertical-align: top;\n    }\n\n    .dataframe thead th {\n        text-align: right;\n    }\n</style>\n<table border=\"1\" class=\"dataframe\">\n  <thead>\n    <tr style=\"text-align: right;\">\n      <th></th>\n      <th>2018 Rank</th>\n      <th>Airport</th>\n    </tr>\n  </thead>\n  <tbody>\n    <tr>\n      <th>0</th>\n      <td>1</td>\n      <td>Atlanta</td>\n    </tr>\n    <tr>\n      <th>1</th>\n      <td>2</td>\n      <td>Los Angeles</td>\n    </tr>\n    <tr>\n      <th>2</th>\n      <td>3</td>\n      <td>Chicago O'Hare</td>\n    </tr>\n    <tr>\n      <th>3</th>\n      <td>4</td>\n      <td>Dallas/Fort Worth</td>\n    </tr>\n    <tr>\n      <th>4</th>\n      <td>5</td>\n      <td>Denver</td>\n    </tr>\n  </tbody>\n</table>\n</div>"
     },
     "metadata": {},
     "execution_count": 8
    }
   ],
   "source": [
    "app_df.iloc[0:5,:]"
   ]
  },
  {
   "cell_type": "code",
   "execution_count": 9,
   "metadata": {},
   "outputs": [],
   "source": [
    "app_df2 = pd.read_excel('Airport Rankings 2018.xlsx',sheet_name=3,header=4,usecols=[0,1,2])"
   ]
  },
  {
   "cell_type": "code",
   "execution_count": 10,
   "metadata": {},
   "outputs": [
    {
     "output_type": "execute_result",
     "data": {
      "text/plain": [
       "   Unnamed: 0                                            Airport Code\n",
       "0         1.0         Los Angeles, CA: Los Angeles International  LAX\n",
       "1         2.0          Chicago, IL: Chicago O'Hare International  ORD\n",
       "2         3.0                   Denver, CO: Denver International  DEN\n",
       "3         4.0  Atlanta, GA: Hartsfield-Jackson Atlanta Intern...  ATL\n",
       "4         5.0     San Francisco, CA: San Francisco International  SFO"
      ],
      "text/html": "<div>\n<style scoped>\n    .dataframe tbody tr th:only-of-type {\n        vertical-align: middle;\n    }\n\n    .dataframe tbody tr th {\n        vertical-align: top;\n    }\n\n    .dataframe thead th {\n        text-align: right;\n    }\n</style>\n<table border=\"1\" class=\"dataframe\">\n  <thead>\n    <tr style=\"text-align: right;\">\n      <th></th>\n      <th>Unnamed: 0</th>\n      <th>Airport</th>\n      <th>Code</th>\n    </tr>\n  </thead>\n  <tbody>\n    <tr>\n      <th>0</th>\n      <td>1.0</td>\n      <td>Los Angeles, CA: Los Angeles International</td>\n      <td>LAX</td>\n    </tr>\n    <tr>\n      <th>1</th>\n      <td>2.0</td>\n      <td>Chicago, IL: Chicago O'Hare International</td>\n      <td>ORD</td>\n    </tr>\n    <tr>\n      <th>2</th>\n      <td>3.0</td>\n      <td>Denver, CO: Denver International</td>\n      <td>DEN</td>\n    </tr>\n    <tr>\n      <th>3</th>\n      <td>4.0</td>\n      <td>Atlanta, GA: Hartsfield-Jackson Atlanta Intern...</td>\n      <td>ATL</td>\n    </tr>\n    <tr>\n      <th>4</th>\n      <td>5.0</td>\n      <td>San Francisco, CA: San Francisco International</td>\n      <td>SFO</td>\n    </tr>\n  </tbody>\n</table>\n</div>"
     },
     "metadata": {},
     "execution_count": 10
    }
   ],
   "source": [
    "app_df2.head()"
   ]
  },
  {
   "cell_type": "code",
   "execution_count": 11,
   "metadata": {},
   "outputs": [],
   "source": [
    "app_df2['Airport'] = app_df2['Airport'].apply(lambda x: x.split(',')[0])"
   ]
  },
  {
   "cell_type": "code",
   "execution_count": 12,
   "metadata": {},
   "outputs": [
    {
     "output_type": "execute_result",
     "data": {
      "text/plain": [
       "   Unnamed: 0        Airport Code\n",
       "0         1.0    Los Angeles  LAX\n",
       "1         2.0        Chicago  ORD\n",
       "2         3.0         Denver  DEN\n",
       "3         4.0        Atlanta  ATL\n",
       "4         5.0  San Francisco  SFO"
      ],
      "text/html": "<div>\n<style scoped>\n    .dataframe tbody tr th:only-of-type {\n        vertical-align: middle;\n    }\n\n    .dataframe tbody tr th {\n        vertical-align: top;\n    }\n\n    .dataframe thead th {\n        text-align: right;\n    }\n</style>\n<table border=\"1\" class=\"dataframe\">\n  <thead>\n    <tr style=\"text-align: right;\">\n      <th></th>\n      <th>Unnamed: 0</th>\n      <th>Airport</th>\n      <th>Code</th>\n    </tr>\n  </thead>\n  <tbody>\n    <tr>\n      <th>0</th>\n      <td>1.0</td>\n      <td>Los Angeles</td>\n      <td>LAX</td>\n    </tr>\n    <tr>\n      <th>1</th>\n      <td>2.0</td>\n      <td>Chicago</td>\n      <td>ORD</td>\n    </tr>\n    <tr>\n      <th>2</th>\n      <td>3.0</td>\n      <td>Denver</td>\n      <td>DEN</td>\n    </tr>\n    <tr>\n      <th>3</th>\n      <td>4.0</td>\n      <td>Atlanta</td>\n      <td>ATL</td>\n    </tr>\n    <tr>\n      <th>4</th>\n      <td>5.0</td>\n      <td>San Francisco</td>\n      <td>SFO</td>\n    </tr>\n  </tbody>\n</table>\n</div>"
     },
     "metadata": {},
     "execution_count": 12
    }
   ],
   "source": [
    "app_df2.head()"
   ]
  },
  {
   "cell_type": "code",
   "execution_count": 17,
   "metadata": {},
   "outputs": [
    {
     "output_type": "stream",
     "name": "stdout",
     "text": [
      "<class 'pandas.core.frame.DataFrame'>\nRangeIndex: 414 entries, 0 to 413\nData columns (total 3 columns):\n #   Column      Non-Null Count  Dtype  \n---  ------      --------------  -----  \n 0   Unnamed: 0  413 non-null    float64\n 1   Airport     414 non-null    object \n 2   Code        413 non-null    object \ndtypes: float64(1), object(2)\nmemory usage: 9.8+ KB\n"
     ]
    }
   ],
   "source": [
    "app_df2.info()"
   ]
  },
  {
   "cell_type": "code",
   "execution_count": 18,
   "metadata": {},
   "outputs": [],
   "source": [
    "df_s = app_df.merge(app_df2[['Airport','Code']],how='left',left_on='Airport',right_on='Airport')"
   ]
  },
  {
   "cell_type": "code",
   "execution_count": 21,
   "metadata": {},
   "outputs": [
    {
     "output_type": "execute_result",
     "data": {
      "text/plain": [
       "    2018 Rank                    Airport Code\n",
       "0           1                    Atlanta  ATL\n",
       "1           2                Los Angeles  LAX\n",
       "2           3             Chicago O'Hare  NaN\n",
       "3           4          Dallas/Fort Worth  DFW\n",
       "4           5                     Denver  DEN\n",
       "..        ...                        ...  ...\n",
       "213       196  Jacksonville/Camp Lejeune  OAJ\n",
       "214       197                    Latrobe  LBE\n",
       "215       198                      Minot  MOT\n",
       "216       199                    Lincoln  LNK\n",
       "217       200                    Concord  NaN\n",
       "\n",
       "[218 rows x 3 columns]"
      ],
      "text/html": "<div>\n<style scoped>\n    .dataframe tbody tr th:only-of-type {\n        vertical-align: middle;\n    }\n\n    .dataframe tbody tr th {\n        vertical-align: top;\n    }\n\n    .dataframe thead th {\n        text-align: right;\n    }\n</style>\n<table border=\"1\" class=\"dataframe\">\n  <thead>\n    <tr style=\"text-align: right;\">\n      <th></th>\n      <th>2018 Rank</th>\n      <th>Airport</th>\n      <th>Code</th>\n    </tr>\n  </thead>\n  <tbody>\n    <tr>\n      <th>0</th>\n      <td>1</td>\n      <td>Atlanta</td>\n      <td>ATL</td>\n    </tr>\n    <tr>\n      <th>1</th>\n      <td>2</td>\n      <td>Los Angeles</td>\n      <td>LAX</td>\n    </tr>\n    <tr>\n      <th>2</th>\n      <td>3</td>\n      <td>Chicago O'Hare</td>\n      <td>NaN</td>\n    </tr>\n    <tr>\n      <th>3</th>\n      <td>4</td>\n      <td>Dallas/Fort Worth</td>\n      <td>DFW</td>\n    </tr>\n    <tr>\n      <th>4</th>\n      <td>5</td>\n      <td>Denver</td>\n      <td>DEN</td>\n    </tr>\n    <tr>\n      <th>...</th>\n      <td>...</td>\n      <td>...</td>\n      <td>...</td>\n    </tr>\n    <tr>\n      <th>213</th>\n      <td>196</td>\n      <td>Jacksonville/Camp Lejeune</td>\n      <td>OAJ</td>\n    </tr>\n    <tr>\n      <th>214</th>\n      <td>197</td>\n      <td>Latrobe</td>\n      <td>LBE</td>\n    </tr>\n    <tr>\n      <th>215</th>\n      <td>198</td>\n      <td>Minot</td>\n      <td>MOT</td>\n    </tr>\n    <tr>\n      <th>216</th>\n      <td>199</td>\n      <td>Lincoln</td>\n      <td>LNK</td>\n    </tr>\n    <tr>\n      <th>217</th>\n      <td>200</td>\n      <td>Concord</td>\n      <td>NaN</td>\n    </tr>\n  </tbody>\n</table>\n<p>218 rows × 3 columns</p>\n</div>"
     },
     "metadata": {},
     "execution_count": 21
    }
   ],
   "source": [
    "df_s = df_s.iloc[:-3,:]\n",
    "df_s"
   ]
  },
  {
   "cell_type": "code",
   "execution_count": 25,
   "metadata": {},
   "outputs": [
    {
     "output_type": "execute_result",
     "data": {
      "text/plain": [
       "198"
      ]
     },
     "metadata": {},
     "execution_count": 25
    }
   ],
   "source": [
    "df_s.Code.unique().__len__()"
   ]
  },
  {
   "cell_type": "code",
   "execution_count": null,
   "metadata": {},
   "outputs": [],
   "source": [
    "df_sp = df.sample(frac=0.05)\n",
    "df_sp.info()"
   ]
  },
  {
   "cell_type": "code",
   "execution_count": null,
   "metadata": {},
   "outputs": [],
   "source": []
  },
  {
   "cell_type": "code",
   "execution_count": null,
   "metadata": {},
   "outputs": [],
   "source": []
  },
  {
   "cell_type": "code",
   "execution_count": null,
   "metadata": {},
   "outputs": [],
   "source": []
  },
  {
   "cell_type": "code",
   "execution_count": null,
   "metadata": {},
   "outputs": [],
   "source": []
  },
  {
   "cell_type": "code",
   "execution_count": null,
   "metadata": {},
   "outputs": [],
   "source": [
    "1111\n",
    "1111\n",
    "0101\n",
    "1010\n",
    "1"
   ]
  }
 ],
 "metadata": {
  "kernelspec": {
   "name": "python388jvsc74a57bd03410afedb74081d81603511028deadddc25ba0f01c14e0cb891e2c2473f81884",
   "display_name": "Python 3.8.8 64-bit"
  },
  "language_info": {
   "codemirror_mode": {
    "name": "ipython",
    "version": 3
   },
   "file_extension": ".py",
   "mimetype": "text/x-python",
   "name": "python",
   "nbconvert_exporter": "python",
   "pygments_lexer": "ipython3",
   "version": "3.8.8"
  },
  "metadata": {
   "interpreter": {
    "hash": "3410afedb74081d81603511028deadddc25ba0f01c14e0cb891e2c2473f81884"
   }
  }
 },
 "nbformat": 4,
 "nbformat_minor": 4
}